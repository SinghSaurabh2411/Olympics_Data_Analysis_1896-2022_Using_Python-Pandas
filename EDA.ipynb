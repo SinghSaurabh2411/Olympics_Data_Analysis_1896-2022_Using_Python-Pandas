{
 "cells": [
  {
   "cell_type": "markdown",
   "id": "d532d954-95d1-42d6-b6b5-ff05bf03c7a8",
   "metadata": {},
   "source": [
    "# Importing Libraries"
   ]
  },
  {
   "cell_type": "code",
   "execution_count": 1,
   "id": "4ee13b39-20e4-4c09-9277-31d8de830e13",
   "metadata": {},
   "outputs": [],
   "source": [
    "import pandas as pd"
   ]
  },
  {
   "cell_type": "code",
   "execution_count": 2,
   "id": "1881912e-92cd-48bc-8ede-982663112e58",
   "metadata": {},
   "outputs": [],
   "source": [
    "import numpy as np"
   ]
  },
  {
   "cell_type": "code",
   "execution_count": 3,
   "id": "38e6260c-4df1-4d9d-8902-6ce37b18568b",
   "metadata": {},
   "outputs": [],
   "source": [
    "import matplotlib.pyplot as plt"
   ]
  },
  {
   "cell_type": "code",
   "execution_count": 4,
   "id": "74508f22-6bbf-492e-9d4f-b3bceac0e56d",
   "metadata": {},
   "outputs": [],
   "source": [
    "from scipy import stats"
   ]
  },
  {
   "cell_type": "code",
   "execution_count": 5,
   "id": "e172760f-1b14-4507-8420-524c3cf42602",
   "metadata": {},
   "outputs": [],
   "source": [
    "pd.set_option('display.max_columns',None)   # To Display all the columns"
   ]
  },
  {
   "cell_type": "markdown",
   "id": "46c07109-dd68-4d58-8ac9-c19a90713967",
   "metadata": {},
   "source": [
    "# Importing the files"
   ]
  },
  {
   "cell_type": "code",
   "execution_count": 6,
   "id": "a9261502-9562-4949-a14d-adbecfb790c3",
   "metadata": {},
   "outputs": [],
   "source": [
    "df1 = pd.read_csv(\"olympics.tsv\", sep = '\\t', low_memory = False)"
   ]
  },
  {
   "cell_type": "code",
   "execution_count": 7,
   "id": "2bb64caa-c771-4ad3-a023-f051ddde719e",
   "metadata": {},
   "outputs": [
    {
     "data": {
      "text/html": [
       "<div>\n",
       "<style scoped>\n",
       "    .dataframe tbody tr th:only-of-type {\n",
       "        vertical-align: middle;\n",
       "    }\n",
       "\n",
       "    .dataframe tbody tr th {\n",
       "        vertical-align: top;\n",
       "    }\n",
       "\n",
       "    .dataframe thead th {\n",
       "        text-align: right;\n",
       "    }\n",
       "</style>\n",
       "<table border=\"1\" class=\"dataframe\">\n",
       "  <thead>\n",
       "    <tr style=\"text-align: right;\">\n",
       "      <th></th>\n",
       "      <th>athlete_id</th>\n",
       "      <th>name</th>\n",
       "      <th>sex</th>\n",
       "      <th>birth_year</th>\n",
       "      <th>birth_day</th>\n",
       "      <th>birth_place</th>\n",
       "      <th>height</th>\n",
       "      <th>weight</th>\n",
       "      <th>team</th>\n",
       "      <th>noc</th>\n",
       "      <th>games</th>\n",
       "      <th>year</th>\n",
       "      <th>season</th>\n",
       "      <th>city</th>\n",
       "      <th>sport</th>\n",
       "      <th>event</th>\n",
       "      <th>medal</th>\n",
       "    </tr>\n",
       "  </thead>\n",
       "  <tbody>\n",
       "    <tr>\n",
       "      <th>0</th>\n",
       "      <td>1</td>\n",
       "      <td>Jean-François Blanchy</td>\n",
       "      <td>M</td>\n",
       "      <td>1886.0</td>\n",
       "      <td>12 December</td>\n",
       "      <td>Bordeaux, Gironde (FRA)</td>\n",
       "      <td>NaN</td>\n",
       "      <td>NaN</td>\n",
       "      <td>France</td>\n",
       "      <td>FRA</td>\n",
       "      <td>1912 Summer Olympics</td>\n",
       "      <td>1912</td>\n",
       "      <td>Summer</td>\n",
       "      <td>Stockholm</td>\n",
       "      <td>Tennis</td>\n",
       "      <td>Doubles, Men</td>\n",
       "      <td>NaN</td>\n",
       "    </tr>\n",
       "    <tr>\n",
       "      <th>1</th>\n",
       "      <td>1</td>\n",
       "      <td>Jean-François Blanchy</td>\n",
       "      <td>M</td>\n",
       "      <td>1886.0</td>\n",
       "      <td>12 December</td>\n",
       "      <td>Bordeaux, Gironde (FRA)</td>\n",
       "      <td>NaN</td>\n",
       "      <td>NaN</td>\n",
       "      <td>France</td>\n",
       "      <td>FRA</td>\n",
       "      <td>1912 Summer Olympics</td>\n",
       "      <td>1912</td>\n",
       "      <td>Summer</td>\n",
       "      <td>Stockholm</td>\n",
       "      <td>Tennis</td>\n",
       "      <td>Singles, Men</td>\n",
       "      <td>NaN</td>\n",
       "    </tr>\n",
       "    <tr>\n",
       "      <th>2</th>\n",
       "      <td>1</td>\n",
       "      <td>Jean-François Blanchy</td>\n",
       "      <td>M</td>\n",
       "      <td>1886.0</td>\n",
       "      <td>12 December</td>\n",
       "      <td>Bordeaux, Gironde (FRA)</td>\n",
       "      <td>NaN</td>\n",
       "      <td>NaN</td>\n",
       "      <td>France</td>\n",
       "      <td>FRA</td>\n",
       "      <td>1920 Summer Olympics</td>\n",
       "      <td>1920</td>\n",
       "      <td>Summer</td>\n",
       "      <td>Antwerpen</td>\n",
       "      <td>Tennis</td>\n",
       "      <td>Doubles, Men</td>\n",
       "      <td>NaN</td>\n",
       "    </tr>\n",
       "    <tr>\n",
       "      <th>3</th>\n",
       "      <td>1</td>\n",
       "      <td>Jean-François Blanchy</td>\n",
       "      <td>M</td>\n",
       "      <td>1886.0</td>\n",
       "      <td>12 December</td>\n",
       "      <td>Bordeaux, Gironde (FRA)</td>\n",
       "      <td>NaN</td>\n",
       "      <td>NaN</td>\n",
       "      <td>France</td>\n",
       "      <td>FRA</td>\n",
       "      <td>1920 Summer Olympics</td>\n",
       "      <td>1920</td>\n",
       "      <td>Summer</td>\n",
       "      <td>Antwerpen</td>\n",
       "      <td>Tennis</td>\n",
       "      <td>Doubles, Mixed</td>\n",
       "      <td>NaN</td>\n",
       "    </tr>\n",
       "    <tr>\n",
       "      <th>4</th>\n",
       "      <td>1</td>\n",
       "      <td>Jean-François Blanchy</td>\n",
       "      <td>M</td>\n",
       "      <td>1886.0</td>\n",
       "      <td>12 December</td>\n",
       "      <td>Bordeaux, Gironde (FRA)</td>\n",
       "      <td>NaN</td>\n",
       "      <td>NaN</td>\n",
       "      <td>France</td>\n",
       "      <td>FRA</td>\n",
       "      <td>1920 Summer Olympics</td>\n",
       "      <td>1920</td>\n",
       "      <td>Summer</td>\n",
       "      <td>Antwerpen</td>\n",
       "      <td>Tennis</td>\n",
       "      <td>Singles, Men</td>\n",
       "      <td>NaN</td>\n",
       "    </tr>\n",
       "  </tbody>\n",
       "</table>\n",
       "</div>"
      ],
      "text/plain": [
       "   athlete_id                   name sex  birth_year     birth_day  \\\n",
       "0           1  Jean-François Blanchy   M      1886.0  12 December    \n",
       "1           1  Jean-François Blanchy   M      1886.0  12 December    \n",
       "2           1  Jean-François Blanchy   M      1886.0  12 December    \n",
       "3           1  Jean-François Blanchy   M      1886.0  12 December    \n",
       "4           1  Jean-François Blanchy   M      1886.0  12 December    \n",
       "\n",
       "               birth_place  height weight    team  noc                 games  \\\n",
       "0  Bordeaux, Gironde (FRA)     NaN    NaN  France  FRA  1912 Summer Olympics   \n",
       "1  Bordeaux, Gironde (FRA)     NaN    NaN  France  FRA  1912 Summer Olympics   \n",
       "2  Bordeaux, Gironde (FRA)     NaN    NaN  France  FRA  1920 Summer Olympics   \n",
       "3  Bordeaux, Gironde (FRA)     NaN    NaN  France  FRA  1920 Summer Olympics   \n",
       "4  Bordeaux, Gironde (FRA)     NaN    NaN  France  FRA  1920 Summer Olympics   \n",
       "\n",
       "   year  season       city   sport           event medal  \n",
       "0  1912  Summer  Stockholm  Tennis    Doubles, Men   NaN  \n",
       "1  1912  Summer  Stockholm  Tennis    Singles, Men   NaN  \n",
       "2  1920  Summer  Antwerpen  Tennis    Doubles, Men   NaN  \n",
       "3  1920  Summer  Antwerpen  Tennis  Doubles, Mixed   NaN  \n",
       "4  1920  Summer  Antwerpen  Tennis    Singles, Men   NaN  "
      ]
     },
     "execution_count": 7,
     "metadata": {},
     "output_type": "execute_result"
    }
   ],
   "source": [
    "df1.head()"
   ]
  },
  {
   "cell_type": "code",
   "execution_count": 8,
   "id": "8c93bbb5-9445-471c-8e70-ffdd13aeeddd",
   "metadata": {},
   "outputs": [
    {
     "name": "stdout",
     "output_type": "stream",
     "text": [
      "<class 'pandas.core.frame.DataFrame'>\n",
      "RangeIndex: 234522 entries, 0 to 234521\n",
      "Data columns (total 17 columns):\n",
      " #   Column       Non-Null Count   Dtype  \n",
      "---  ------       --------------   -----  \n",
      " 0   athlete_id   234522 non-null  int64  \n",
      " 1   name         234522 non-null  object \n",
      " 2   sex          234522 non-null  object \n",
      " 3   birth_year   230680 non-null  float64\n",
      " 4   birth_day    227438 non-null  object \n",
      " 5   birth_place  230764 non-null  object \n",
      " 6   height       177501 non-null  float64\n",
      " 7   weight       174107 non-null  object \n",
      " 8   team         234522 non-null  object \n",
      " 9   noc          234522 non-null  object \n",
      " 10  games        234522 non-null  object \n",
      " 11  year         234522 non-null  int64  \n",
      " 12  season       234522 non-null  object \n",
      " 13  city         234522 non-null  object \n",
      " 14  sport        234522 non-null  object \n",
      " 15  event        234522 non-null  object \n",
      " 16  medal        24633 non-null   object \n",
      "dtypes: float64(2), int64(2), object(13)\n",
      "memory usage: 30.4+ MB\n"
     ]
    }
   ],
   "source": [
    "df1.info()"
   ]
  },
  {
   "cell_type": "code",
   "execution_count": 9,
   "id": "d8085623-2d98-4298-a071-6f16fbc28916",
   "metadata": {},
   "outputs": [],
   "source": [
    "df2 = pd.read_csv('country-information.tsv', sep='\\t')"
   ]
  },
  {
   "cell_type": "code",
   "execution_count": 10,
   "id": "a2d825ae-93c5-4d34-9aa3-9a262adf3592",
   "metadata": {},
   "outputs": [
    {
     "data": {
      "text/html": [
       "<div>\n",
       "<style scoped>\n",
       "    .dataframe tbody tr th:only-of-type {\n",
       "        vertical-align: middle;\n",
       "    }\n",
       "\n",
       "    .dataframe tbody tr th {\n",
       "        vertical-align: top;\n",
       "    }\n",
       "\n",
       "    .dataframe thead th {\n",
       "        text-align: right;\n",
       "    }\n",
       "</style>\n",
       "<table border=\"1\" class=\"dataframe\">\n",
       "  <thead>\n",
       "    <tr style=\"text-align: right;\">\n",
       "      <th></th>\n",
       "      <th>FIFA</th>\n",
       "      <th>NOC</th>\n",
       "      <th>official_name_en</th>\n",
       "      <th>Continent</th>\n",
       "      <th>Dial</th>\n",
       "      <th>ISO3166-1-Alpha-3</th>\n",
       "      <th>MARC</th>\n",
       "      <th>is_independent</th>\n",
       "      <th>ISO3166-1-numeric</th>\n",
       "      <th>GAUL</th>\n",
       "      <th>FIPS</th>\n",
       "      <th>WMO</th>\n",
       "      <th>ISO3166-1-Alpha-2</th>\n",
       "      <th>ITU</th>\n",
       "      <th>DS</th>\n",
       "      <th>UNTERM Spanish Formal</th>\n",
       "      <th>Global Code</th>\n",
       "      <th>Intermediate Region Code</th>\n",
       "      <th>official_name_fr</th>\n",
       "      <th>UNTERM French Short</th>\n",
       "      <th>ISO4217-currency_name</th>\n",
       "      <th>Developed / Developing Countries</th>\n",
       "      <th>UNTERM Russian Formal</th>\n",
       "      <th>UNTERM English Short</th>\n",
       "      <th>ISO4217-currency_alphabetic_code</th>\n",
       "      <th>Small Island Developing States (SIDS)</th>\n",
       "      <th>UNTERM Spanish Short</th>\n",
       "      <th>ISO4217-currency_numeric_code</th>\n",
       "      <th>UNTERM Chinese Formal</th>\n",
       "      <th>UNTERM French Formal</th>\n",
       "      <th>UNTERM Russian Short</th>\n",
       "      <th>M49</th>\n",
       "      <th>Sub-region Code</th>\n",
       "      <th>Region Code</th>\n",
       "      <th>official_name_ar</th>\n",
       "      <th>ISO4217-currency_minor_unit</th>\n",
       "      <th>UNTERM Arabic Formal</th>\n",
       "      <th>UNTERM Chinese Short</th>\n",
       "      <th>Land Locked Developing Countries (LLDC)</th>\n",
       "      <th>Intermediate Region Name</th>\n",
       "      <th>official_name_es</th>\n",
       "      <th>UNTERM English Formal</th>\n",
       "      <th>official_name_cn</th>\n",
       "      <th>ISO4217-currency_country_name</th>\n",
       "      <th>Least Developed Countries (LDC)</th>\n",
       "      <th>Region Name</th>\n",
       "      <th>UNTERM Arabic Short</th>\n",
       "      <th>Sub-region Name</th>\n",
       "      <th>official_name_ru</th>\n",
       "      <th>Global Name</th>\n",
       "      <th>Capital</th>\n",
       "      <th>TLD</th>\n",
       "      <th>Languages</th>\n",
       "      <th>Geoname ID</th>\n",
       "      <th>CLDR display name</th>\n",
       "      <th>EDGAR</th>\n",
       "    </tr>\n",
       "  </thead>\n",
       "  <tbody>\n",
       "    <tr>\n",
       "      <th>0</th>\n",
       "      <td>TPE</td>\n",
       "      <td>TPE</td>\n",
       "      <td>NaN</td>\n",
       "      <td>AS</td>\n",
       "      <td>886</td>\n",
       "      <td>TWN</td>\n",
       "      <td>ch</td>\n",
       "      <td>Yes</td>\n",
       "      <td>158.0</td>\n",
       "      <td>925.0</td>\n",
       "      <td>TW</td>\n",
       "      <td></td>\n",
       "      <td>TW</td>\n",
       "      <td></td>\n",
       "      <td>RC</td>\n",
       "      <td>NaN</td>\n",
       "      <td>NaN</td>\n",
       "      <td>NaN</td>\n",
       "      <td>NaN</td>\n",
       "      <td>NaN</td>\n",
       "      <td>NaN</td>\n",
       "      <td>NaN</td>\n",
       "      <td>NaN</td>\n",
       "      <td>NaN</td>\n",
       "      <td>NaN</td>\n",
       "      <td>NaN</td>\n",
       "      <td>NaN</td>\n",
       "      <td>NaN</td>\n",
       "      <td>NaN</td>\n",
       "      <td>NaN</td>\n",
       "      <td>NaN</td>\n",
       "      <td>NaN</td>\n",
       "      <td>NaN</td>\n",
       "      <td>NaN</td>\n",
       "      <td>NaN</td>\n",
       "      <td>NaN</td>\n",
       "      <td>NaN</td>\n",
       "      <td>NaN</td>\n",
       "      <td>NaN</td>\n",
       "      <td>NaN</td>\n",
       "      <td>NaN</td>\n",
       "      <td>NaN</td>\n",
       "      <td>NaN</td>\n",
       "      <td>NaN</td>\n",
       "      <td>NaN</td>\n",
       "      <td>NaN</td>\n",
       "      <td>NaN</td>\n",
       "      <td>NaN</td>\n",
       "      <td>NaN</td>\n",
       "      <td>NaN</td>\n",
       "      <td>Taipei</td>\n",
       "      <td>.tw</td>\n",
       "      <td>zh-TW,zh,nan,hak</td>\n",
       "      <td>1668284.0</td>\n",
       "      <td>Taiwan</td>\n",
       "      <td>NaN</td>\n",
       "    </tr>\n",
       "    <tr>\n",
       "      <th>1</th>\n",
       "      <td>AFG</td>\n",
       "      <td>AFG</td>\n",
       "      <td>Afghanistan</td>\n",
       "      <td>AS</td>\n",
       "      <td>93</td>\n",
       "      <td>AFG</td>\n",
       "      <td>af</td>\n",
       "      <td>Yes</td>\n",
       "      <td>4.0</td>\n",
       "      <td>1.0</td>\n",
       "      <td>AF</td>\n",
       "      <td>AF</td>\n",
       "      <td>AF</td>\n",
       "      <td>AFG</td>\n",
       "      <td>AFG</td>\n",
       "      <td>República Islámica del Afganistán (la)</td>\n",
       "      <td>True</td>\n",
       "      <td>NaN</td>\n",
       "      <td>Afghanistan</td>\n",
       "      <td>Afghanistan (l') [masc.]</td>\n",
       "      <td>Afghani</td>\n",
       "      <td>Developing</td>\n",
       "      <td>Исламская Республика Афганистан</td>\n",
       "      <td>Afghanistan</td>\n",
       "      <td>AFN</td>\n",
       "      <td>NaN</td>\n",
       "      <td>Afganistán (el)</td>\n",
       "      <td>971.0</td>\n",
       "      <td>阿富汗伊斯兰共和国</td>\n",
       "      <td>République islamique d'Afghanistan</td>\n",
       "      <td>Афганистан</td>\n",
       "      <td>4.0</td>\n",
       "      <td>34.0</td>\n",
       "      <td>142.0</td>\n",
       "      <td>أفغانستان</td>\n",
       "      <td>2</td>\n",
       "      <td>جمهورية أفغانستان الإسلامية</td>\n",
       "      <td>阿富汗</td>\n",
       "      <td>x</td>\n",
       "      <td>NaN</td>\n",
       "      <td>Afganistán</td>\n",
       "      <td>the Islamic Republic of Afghanistan</td>\n",
       "      <td>阿富汗</td>\n",
       "      <td>AFGHANISTAN</td>\n",
       "      <td>x</td>\n",
       "      <td>Asia</td>\n",
       "      <td>أفغانستان</td>\n",
       "      <td>Southern Asia</td>\n",
       "      <td>Афганистан</td>\n",
       "      <td>World</td>\n",
       "      <td>Kabul</td>\n",
       "      <td>.af</td>\n",
       "      <td>fa-AF,ps,uz-AF,tk</td>\n",
       "      <td>1149361.0</td>\n",
       "      <td>Afghanistan</td>\n",
       "      <td>B2</td>\n",
       "    </tr>\n",
       "    <tr>\n",
       "      <th>2</th>\n",
       "      <td>ALB</td>\n",
       "      <td>ALB</td>\n",
       "      <td>Albania</td>\n",
       "      <td>EU</td>\n",
       "      <td>355</td>\n",
       "      <td>ALB</td>\n",
       "      <td>aa</td>\n",
       "      <td>Yes</td>\n",
       "      <td>8.0</td>\n",
       "      <td>3.0</td>\n",
       "      <td>AL</td>\n",
       "      <td>AB</td>\n",
       "      <td>AL</td>\n",
       "      <td>ALB</td>\n",
       "      <td>AL</td>\n",
       "      <td>la República de Albania</td>\n",
       "      <td>True</td>\n",
       "      <td>NaN</td>\n",
       "      <td>Albanie</td>\n",
       "      <td>Albanie (l') [fém.]</td>\n",
       "      <td>Lek</td>\n",
       "      <td>Developed</td>\n",
       "      <td>Республика Албания</td>\n",
       "      <td>Albania</td>\n",
       "      <td>ALL</td>\n",
       "      <td>NaN</td>\n",
       "      <td>Albania</td>\n",
       "      <td>8.0</td>\n",
       "      <td>阿尔巴尼亚共和国</td>\n",
       "      <td>la République d'Albanie</td>\n",
       "      <td>Албания</td>\n",
       "      <td>8.0</td>\n",
       "      <td>39.0</td>\n",
       "      <td>150.0</td>\n",
       "      <td>ألبانيا</td>\n",
       "      <td>2</td>\n",
       "      <td>جمهورية ألبانيا</td>\n",
       "      <td>阿尔巴尼亚</td>\n",
       "      <td>NaN</td>\n",
       "      <td>NaN</td>\n",
       "      <td>Albania</td>\n",
       "      <td>the Republic of Albania</td>\n",
       "      <td>阿尔巴尼亚</td>\n",
       "      <td>ALBANIA</td>\n",
       "      <td>NaN</td>\n",
       "      <td>Europe</td>\n",
       "      <td>ألبانيا</td>\n",
       "      <td>Southern Europe</td>\n",
       "      <td>Албания</td>\n",
       "      <td>World</td>\n",
       "      <td>Tirana</td>\n",
       "      <td>.al</td>\n",
       "      <td>sq,el</td>\n",
       "      <td>783754.0</td>\n",
       "      <td>Albania</td>\n",
       "      <td>B3</td>\n",
       "    </tr>\n",
       "    <tr>\n",
       "      <th>3</th>\n",
       "      <td>ALG</td>\n",
       "      <td>ALG</td>\n",
       "      <td>Algeria</td>\n",
       "      <td>AF</td>\n",
       "      <td>213</td>\n",
       "      <td>DZA</td>\n",
       "      <td>ae</td>\n",
       "      <td>Yes</td>\n",
       "      <td>12.0</td>\n",
       "      <td>4.0</td>\n",
       "      <td>AG</td>\n",
       "      <td>AL</td>\n",
       "      <td>DZ</td>\n",
       "      <td>ALG</td>\n",
       "      <td>DZ</td>\n",
       "      <td>la República Argelina Democrática y Popular</td>\n",
       "      <td>True</td>\n",
       "      <td>NaN</td>\n",
       "      <td>Algérie</td>\n",
       "      <td>Algérie (l') [fém.]</td>\n",
       "      <td>Algerian Dinar</td>\n",
       "      <td>Developing</td>\n",
       "      <td>Алжирская Народная Демократическая Республика</td>\n",
       "      <td>Algeria</td>\n",
       "      <td>DZD</td>\n",
       "      <td>NaN</td>\n",
       "      <td>Argelia</td>\n",
       "      <td>12.0</td>\n",
       "      <td>阿尔及利亚民主人民共和国</td>\n",
       "      <td>la République algérienne démocratique et popul...</td>\n",
       "      <td>Алжир</td>\n",
       "      <td>12.0</td>\n",
       "      <td>15.0</td>\n",
       "      <td>2.0</td>\n",
       "      <td>الجزائر</td>\n",
       "      <td>2</td>\n",
       "      <td>الجمهورية الجزائرية الديمقراطية الشعبية</td>\n",
       "      <td>阿尔及利亚</td>\n",
       "      <td>NaN</td>\n",
       "      <td>NaN</td>\n",
       "      <td>Argelia</td>\n",
       "      <td>the People's Democratic Republic of Algeria</td>\n",
       "      <td>阿尔及利亚</td>\n",
       "      <td>ALGERIA</td>\n",
       "      <td>NaN</td>\n",
       "      <td>Africa</td>\n",
       "      <td>الجزائر</td>\n",
       "      <td>Northern Africa</td>\n",
       "      <td>Алжир</td>\n",
       "      <td>World</td>\n",
       "      <td>Algiers</td>\n",
       "      <td>.dz</td>\n",
       "      <td>ar-DZ</td>\n",
       "      <td>2589581.0</td>\n",
       "      <td>Algeria</td>\n",
       "      <td>B4</td>\n",
       "    </tr>\n",
       "    <tr>\n",
       "      <th>4</th>\n",
       "      <td>ASA</td>\n",
       "      <td>ASA</td>\n",
       "      <td>American Samoa</td>\n",
       "      <td>OC</td>\n",
       "      <td>1-684</td>\n",
       "      <td>ASM</td>\n",
       "      <td>as</td>\n",
       "      <td>Territory of US</td>\n",
       "      <td>16.0</td>\n",
       "      <td>5.0</td>\n",
       "      <td>AQ</td>\n",
       "      <td></td>\n",
       "      <td>AS</td>\n",
       "      <td>SMA</td>\n",
       "      <td>USA</td>\n",
       "      <td>NaN</td>\n",
       "      <td>True</td>\n",
       "      <td>NaN</td>\n",
       "      <td>Samoa américaines</td>\n",
       "      <td>NaN</td>\n",
       "      <td>US Dollar</td>\n",
       "      <td>Developing</td>\n",
       "      <td>NaN</td>\n",
       "      <td>NaN</td>\n",
       "      <td>USD</td>\n",
       "      <td>x</td>\n",
       "      <td>NaN</td>\n",
       "      <td>840.0</td>\n",
       "      <td>NaN</td>\n",
       "      <td>NaN</td>\n",
       "      <td>NaN</td>\n",
       "      <td>16.0</td>\n",
       "      <td>61.0</td>\n",
       "      <td>9.0</td>\n",
       "      <td>ساموا الأمريكية</td>\n",
       "      <td>2</td>\n",
       "      <td>NaN</td>\n",
       "      <td>NaN</td>\n",
       "      <td>NaN</td>\n",
       "      <td>NaN</td>\n",
       "      <td>Samoa Americana</td>\n",
       "      <td>NaN</td>\n",
       "      <td>美属萨摩亚</td>\n",
       "      <td>AMERICAN SAMOA</td>\n",
       "      <td>NaN</td>\n",
       "      <td>Oceania</td>\n",
       "      <td>NaN</td>\n",
       "      <td>Polynesia</td>\n",
       "      <td>Американское Самоа</td>\n",
       "      <td>World</td>\n",
       "      <td>Pago Pago</td>\n",
       "      <td>.as</td>\n",
       "      <td>en-AS,sm,to</td>\n",
       "      <td>5880801.0</td>\n",
       "      <td>American Samoa</td>\n",
       "      <td>B5</td>\n",
       "    </tr>\n",
       "  </tbody>\n",
       "</table>\n",
       "</div>"
      ],
      "text/plain": [
       "  FIFA  NOC official_name_en Continent   Dial ISO3166-1-Alpha-3 MARC  \\\n",
       "0  TPE  TPE              NaN        AS    886               TWN   ch   \n",
       "1  AFG  AFG      Afghanistan        AS     93               AFG   af   \n",
       "2  ALB  ALB          Albania        EU    355               ALB   aa   \n",
       "3  ALG  ALG          Algeria        AF    213               DZA   ae   \n",
       "4  ASA  ASA   American Samoa        OC  1-684               ASM   as   \n",
       "\n",
       "    is_independent  ISO3166-1-numeric   GAUL FIPS WMO ISO3166-1-Alpha-2  ITU  \\\n",
       "0              Yes              158.0  925.0   TW                    TW        \n",
       "1              Yes                4.0    1.0   AF  AF                AF  AFG   \n",
       "2              Yes                8.0    3.0   AL  AB                AL  ALB   \n",
       "3              Yes               12.0    4.0   AG  AL                DZ  ALG   \n",
       "4  Territory of US               16.0    5.0   AQ                    AS  SMA   \n",
       "\n",
       "    DS                        UNTERM Spanish Formal Global Code  \\\n",
       "0   RC                                          NaN         NaN   \n",
       "1  AFG       República Islámica del Afganistán (la)        True   \n",
       "2   AL                      la República de Albania        True   \n",
       "3   DZ  la República Argelina Democrática y Popular        True   \n",
       "4  USA                                          NaN        True   \n",
       "\n",
       "   Intermediate Region Code   official_name_fr       UNTERM French Short  \\\n",
       "0                       NaN                NaN                       NaN   \n",
       "1                       NaN        Afghanistan  Afghanistan (l') [masc.]   \n",
       "2                       NaN            Albanie       Albanie (l') [fém.]   \n",
       "3                       NaN            Algérie       Algérie (l') [fém.]   \n",
       "4                       NaN  Samoa américaines                       NaN   \n",
       "\n",
       "  ISO4217-currency_name Developed / Developing Countries  \\\n",
       "0                   NaN                              NaN   \n",
       "1               Afghani                       Developing   \n",
       "2                   Lek                        Developed   \n",
       "3        Algerian Dinar                       Developing   \n",
       "4             US Dollar                       Developing   \n",
       "\n",
       "                           UNTERM Russian Formal UNTERM English Short  \\\n",
       "0                                            NaN                  NaN   \n",
       "1                Исламская Республика Афганистан          Afghanistan   \n",
       "2                             Республика Албания              Albania   \n",
       "3  Алжирская Народная Демократическая Республика              Algeria   \n",
       "4                                            NaN                  NaN   \n",
       "\n",
       "  ISO4217-currency_alphabetic_code Small Island Developing States (SIDS)  \\\n",
       "0                              NaN                                   NaN   \n",
       "1                              AFN                                   NaN   \n",
       "2                              ALL                                   NaN   \n",
       "3                              DZD                                   NaN   \n",
       "4                              USD                                     x   \n",
       "\n",
       "  UNTERM Spanish Short  ISO4217-currency_numeric_code UNTERM Chinese Formal  \\\n",
       "0                  NaN                            NaN                   NaN   \n",
       "1      Afganistán (el)                          971.0             阿富汗伊斯兰共和国   \n",
       "2              Albania                            8.0              阿尔巴尼亚共和国   \n",
       "3              Argelia                           12.0          阿尔及利亚民主人民共和国   \n",
       "4                  NaN                          840.0                   NaN   \n",
       "\n",
       "                                UNTERM French Formal UNTERM Russian Short  \\\n",
       "0                                                NaN                  NaN   \n",
       "1                 République islamique d'Afghanistan           Афганистан   \n",
       "2                            la République d'Albanie              Албания   \n",
       "3  la République algérienne démocratique et popul...                Алжир   \n",
       "4                                                NaN                  NaN   \n",
       "\n",
       "    M49  Sub-region Code  Region Code official_name_ar  \\\n",
       "0   NaN              NaN          NaN              NaN   \n",
       "1   4.0             34.0        142.0        أفغانستان   \n",
       "2   8.0             39.0        150.0          ألبانيا   \n",
       "3  12.0             15.0          2.0          الجزائر   \n",
       "4  16.0             61.0          9.0  ساموا الأمريكية   \n",
       "\n",
       "  ISO4217-currency_minor_unit                     UNTERM Arabic Formal  \\\n",
       "0                         NaN                                      NaN   \n",
       "1                           2              جمهورية أفغانستان الإسلامية   \n",
       "2                           2                          جمهورية ألبانيا   \n",
       "3                           2  الجمهورية الجزائرية الديمقراطية الشعبية   \n",
       "4                           2                                      NaN   \n",
       "\n",
       "  UNTERM Chinese Short Land Locked Developing Countries (LLDC)  \\\n",
       "0                  NaN                                     NaN   \n",
       "1                  阿富汗                                       x   \n",
       "2                阿尔巴尼亚                                     NaN   \n",
       "3                阿尔及利亚                                     NaN   \n",
       "4                  NaN                                     NaN   \n",
       "\n",
       "  Intermediate Region Name official_name_es  \\\n",
       "0                      NaN              NaN   \n",
       "1                      NaN       Afganistán   \n",
       "2                      NaN          Albania   \n",
       "3                      NaN          Argelia   \n",
       "4                      NaN  Samoa Americana   \n",
       "\n",
       "                         UNTERM English Formal official_name_cn  \\\n",
       "0                                          NaN              NaN   \n",
       "1          the Islamic Republic of Afghanistan              阿富汗   \n",
       "2                      the Republic of Albania            阿尔巴尼亚   \n",
       "3  the People's Democratic Republic of Algeria            阿尔及利亚   \n",
       "4                                          NaN            美属萨摩亚   \n",
       "\n",
       "  ISO4217-currency_country_name Least Developed Countries (LDC) Region Name  \\\n",
       "0                           NaN                             NaN         NaN   \n",
       "1                   AFGHANISTAN                               x        Asia   \n",
       "2                       ALBANIA                             NaN      Europe   \n",
       "3                       ALGERIA                             NaN      Africa   \n",
       "4                AMERICAN SAMOA                             NaN     Oceania   \n",
       "\n",
       "  UNTERM Arabic Short  Sub-region Name    official_name_ru Global Name  \\\n",
       "0                 NaN              NaN                 NaN         NaN   \n",
       "1           أفغانستان    Southern Asia          Афганистан       World   \n",
       "2             ألبانيا  Southern Europe             Албания       World   \n",
       "3             الجزائر  Northern Africa               Алжир       World   \n",
       "4                 NaN        Polynesia  Американское Самоа       World   \n",
       "\n",
       "     Capital  TLD          Languages  Geoname ID CLDR display name EDGAR  \n",
       "0     Taipei  .tw   zh-TW,zh,nan,hak   1668284.0            Taiwan   NaN  \n",
       "1      Kabul  .af  fa-AF,ps,uz-AF,tk   1149361.0       Afghanistan    B2  \n",
       "2     Tirana  .al              sq,el    783754.0           Albania    B3  \n",
       "3    Algiers  .dz              ar-DZ   2589581.0           Algeria    B4  \n",
       "4  Pago Pago  .as        en-AS,sm,to   5880801.0    American Samoa    B5  "
      ]
     },
     "execution_count": 10,
     "metadata": {},
     "output_type": "execute_result"
    }
   ],
   "source": [
    "df2.head()"
   ]
  },
  {
   "cell_type": "code",
   "execution_count": 11,
   "id": "b06ee7e8-40f1-4217-a70f-5d069f14fb37",
   "metadata": {},
   "outputs": [
    {
     "name": "stdout",
     "output_type": "stream",
     "text": [
      "<class 'pandas.core.frame.DataFrame'>\n",
      "RangeIndex: 250 entries, 0 to 249\n",
      "Data columns (total 56 columns):\n",
      " #   Column                                   Non-Null Count  Dtype  \n",
      "---  ------                                   --------------  -----  \n",
      " 0   FIFA                                     239 non-null    object \n",
      " 1   NOC                                      246 non-null    object \n",
      " 2   official_name_en                         249 non-null    object \n",
      " 3   Continent                                208 non-null    object \n",
      " 4   Dial                                     249 non-null    object \n",
      " 5   ISO3166-1-Alpha-3                        249 non-null    object \n",
      " 6   MARC                                     249 non-null    object \n",
      " 7   is_independent                           249 non-null    object \n",
      " 8   ISO3166-1-numeric                        249 non-null    float64\n",
      " 9   GAUL                                     243 non-null    float64\n",
      " 10  FIPS                                     249 non-null    object \n",
      " 11  WMO                                      246 non-null    object \n",
      " 12  ISO3166-1-Alpha-2                        248 non-null    object \n",
      " 13  ITU                                      247 non-null    object \n",
      " 14  DS                                       245 non-null    object \n",
      " 15  UNTERM Spanish Formal                    196 non-null    object \n",
      " 16  Global Code                              249 non-null    object \n",
      " 17  Intermediate Region Code                 108 non-null    float64\n",
      " 18  official_name_fr                         249 non-null    object \n",
      " 19  UNTERM French Short                      196 non-null    object \n",
      " 20  ISO4217-currency_name                    247 non-null    object \n",
      " 21  Developed / Developing Countries         248 non-null    object \n",
      " 22  UNTERM Russian Formal                    196 non-null    object \n",
      " 23  UNTERM English Short                     196 non-null    object \n",
      " 24  ISO4217-currency_alphabetic_code         244 non-null    object \n",
      " 25  Small Island Developing States (SIDS)    53 non-null     object \n",
      " 26  UNTERM Spanish Short                     196 non-null    object \n",
      " 27  ISO4217-currency_numeric_code            244 non-null    float64\n",
      " 28  UNTERM Chinese Formal                    196 non-null    object \n",
      " 29  UNTERM French Formal                     196 non-null    object \n",
      " 30  UNTERM Russian Short                     196 non-null    object \n",
      " 31  M49                                      249 non-null    float64\n",
      " 32  Sub-region Code                          248 non-null    float64\n",
      " 33  Region Code                              248 non-null    float64\n",
      " 34  official_name_ar                         249 non-null    object \n",
      " 35  ISO4217-currency_minor_unit              244 non-null    object \n",
      " 36  UNTERM Arabic Formal                     196 non-null    object \n",
      " 37  UNTERM Chinese Short                     196 non-null    object \n",
      " 38  Land Locked Developing Countries (LLDC)  32 non-null     object \n",
      " 39  Intermediate Region Name                 108 non-null    object \n",
      " 40  official_name_es                         249 non-null    object \n",
      " 41  UNTERM English Formal                    196 non-null    object \n",
      " 42  official_name_cn                         249 non-null    object \n",
      " 43  ISO4217-currency_country_name            247 non-null    object \n",
      " 44  Least Developed Countries (LDC)          47 non-null     object \n",
      " 45  Region Name                              248 non-null    object \n",
      " 46  UNTERM Arabic Short                      196 non-null    object \n",
      " 47  Sub-region Name                          248 non-null    object \n",
      " 48  official_name_ru                         249 non-null    object \n",
      " 49  Global Name                              249 non-null    object \n",
      " 50  Capital                                  243 non-null    object \n",
      " 51  TLD                                      248 non-null    object \n",
      " 52  Languages                                246 non-null    object \n",
      " 53  Geoname ID                               249 non-null    float64\n",
      " 54  CLDR display name                        249 non-null    object \n",
      " 55  EDGAR                                    214 non-null    object \n",
      "dtypes: float64(8), object(48)\n",
      "memory usage: 109.5+ KB\n"
     ]
    }
   ],
   "source": [
    "df2.info()"
   ]
  },
  {
   "cell_type": "code",
   "execution_count": 12,
   "id": "c480db36-93f9-443e-8f19-12c363dbe03c",
   "metadata": {},
   "outputs": [],
   "source": [
    "df3 = pd.read_csv('olympics_2022.tsv', sep = '\\t')"
   ]
  },
  {
   "cell_type": "code",
   "execution_count": 13,
   "id": "54901a77-fbd5-45cf-a942-a1cc5686c009",
   "metadata": {},
   "outputs": [
    {
     "data": {
      "text/html": [
       "<div>\n",
       "<style scoped>\n",
       "    .dataframe tbody tr th:only-of-type {\n",
       "        vertical-align: middle;\n",
       "    }\n",
       "\n",
       "    .dataframe tbody tr th {\n",
       "        vertical-align: top;\n",
       "    }\n",
       "\n",
       "    .dataframe thead th {\n",
       "        text-align: right;\n",
       "    }\n",
       "</style>\n",
       "<table border=\"1\" class=\"dataframe\">\n",
       "  <thead>\n",
       "    <tr style=\"text-align: right;\">\n",
       "      <th></th>\n",
       "      <th>athlete_id</th>\n",
       "      <th>name</th>\n",
       "      <th>sex</th>\n",
       "      <th>birth_year</th>\n",
       "      <th>birth_day</th>\n",
       "      <th>birth_place</th>\n",
       "      <th>height</th>\n",
       "      <th>weight</th>\n",
       "      <th>team</th>\n",
       "      <th>noc</th>\n",
       "      <th>games</th>\n",
       "      <th>year</th>\n",
       "      <th>season</th>\n",
       "      <th>city</th>\n",
       "      <th>sport</th>\n",
       "      <th>event</th>\n",
       "      <th>medal</th>\n",
       "    </tr>\n",
       "  </thead>\n",
       "  <tbody>\n",
       "    <tr>\n",
       "      <th>0</th>\n",
       "      <td>82053</td>\n",
       "      <td>Claudia Pechstein</td>\n",
       "      <td>F</td>\n",
       "      <td>1972</td>\n",
       "      <td>22 February</td>\n",
       "      <td>(GER)</td>\n",
       "      <td>166.0</td>\n",
       "      <td>61.0</td>\n",
       "      <td>Germany</td>\n",
       "      <td>GER</td>\n",
       "      <td>2022 Winter Olympics</td>\n",
       "      <td>2022</td>\n",
       "      <td>Winter</td>\n",
       "      <td>Beijing</td>\n",
       "      <td>Speed Skating</td>\n",
       "      <td>3,000 metres, Women</td>\n",
       "      <td>NaN</td>\n",
       "    </tr>\n",
       "    <tr>\n",
       "      <th>1</th>\n",
       "      <td>82053</td>\n",
       "      <td>Claudia Pechstein</td>\n",
       "      <td>F</td>\n",
       "      <td>1972</td>\n",
       "      <td>22 February</td>\n",
       "      <td>(GER)</td>\n",
       "      <td>166.0</td>\n",
       "      <td>61.0</td>\n",
       "      <td>Germany</td>\n",
       "      <td>GER</td>\n",
       "      <td>2022 Winter Olympics</td>\n",
       "      <td>2022</td>\n",
       "      <td>Winter</td>\n",
       "      <td>Beijing</td>\n",
       "      <td>Speed Skating</td>\n",
       "      <td>Mass Start, Women</td>\n",
       "      <td>NaN</td>\n",
       "    </tr>\n",
       "    <tr>\n",
       "      <th>2</th>\n",
       "      <td>99452</td>\n",
       "      <td>Sarah Schleper</td>\n",
       "      <td>F</td>\n",
       "      <td>1979</td>\n",
       "      <td>19 February</td>\n",
       "      <td>Glenwood Springs, Colorado (USA)</td>\n",
       "      <td>162.0</td>\n",
       "      <td>61.0</td>\n",
       "      <td>Mexico  United States</td>\n",
       "      <td>MEX</td>\n",
       "      <td>2022 Winter Olympics</td>\n",
       "      <td>2022</td>\n",
       "      <td>Winter</td>\n",
       "      <td>Beijing</td>\n",
       "      <td>Alpine Skiing</td>\n",
       "      <td>Giant Slalom, Women</td>\n",
       "      <td>NaN</td>\n",
       "    </tr>\n",
       "    <tr>\n",
       "      <th>3</th>\n",
       "      <td>99452</td>\n",
       "      <td>Sarah Schleper</td>\n",
       "      <td>F</td>\n",
       "      <td>1979</td>\n",
       "      <td>19 February</td>\n",
       "      <td>Glenwood Springs, Colorado (USA)</td>\n",
       "      <td>162.0</td>\n",
       "      <td>61.0</td>\n",
       "      <td>Mexico  United States</td>\n",
       "      <td>MEX</td>\n",
       "      <td>2022 Winter Olympics</td>\n",
       "      <td>2022</td>\n",
       "      <td>Winter</td>\n",
       "      <td>Beijing</td>\n",
       "      <td>Alpine Skiing</td>\n",
       "      <td>Super G, Women</td>\n",
       "      <td>NaN</td>\n",
       "    </tr>\n",
       "    <tr>\n",
       "      <th>4</th>\n",
       "      <td>99452</td>\n",
       "      <td>Sarah Schleper</td>\n",
       "      <td>F</td>\n",
       "      <td>1979</td>\n",
       "      <td>19 February</td>\n",
       "      <td>Glenwood Springs, Colorado (USA)</td>\n",
       "      <td>162.0</td>\n",
       "      <td>61.0</td>\n",
       "      <td>Mexico  United States</td>\n",
       "      <td>USA</td>\n",
       "      <td>2022 Winter Olympics</td>\n",
       "      <td>2022</td>\n",
       "      <td>Winter</td>\n",
       "      <td>Beijing</td>\n",
       "      <td>Alpine Skiing</td>\n",
       "      <td>Giant Slalom, Women</td>\n",
       "      <td>NaN</td>\n",
       "    </tr>\n",
       "  </tbody>\n",
       "</table>\n",
       "</div>"
      ],
      "text/plain": [
       "   athlete_id               name sex  birth_year     birth_day  \\\n",
       "0       82053  Claudia Pechstein   F        1972  22 February    \n",
       "1       82053  Claudia Pechstein   F        1972  22 February    \n",
       "2       99452     Sarah Schleper   F        1979  19 February    \n",
       "3       99452     Sarah Schleper   F        1979  19 February    \n",
       "4       99452     Sarah Schleper   F        1979  19 February    \n",
       "\n",
       "                        birth_place  height  weight                   team  \\\n",
       "0                             (GER)   166.0    61.0                Germany   \n",
       "1                             (GER)   166.0    61.0                Germany   \n",
       "2  Glenwood Springs, Colorado (USA)   162.0    61.0  Mexico  United States   \n",
       "3  Glenwood Springs, Colorado (USA)   162.0    61.0  Mexico  United States   \n",
       "4  Glenwood Springs, Colorado (USA)   162.0    61.0  Mexico  United States   \n",
       "\n",
       "   noc                 games  year  season     city          sport  \\\n",
       "0  GER  2022 Winter Olympics  2022  Winter  Beijing  Speed Skating   \n",
       "1  GER  2022 Winter Olympics  2022  Winter  Beijing  Speed Skating   \n",
       "2  MEX  2022 Winter Olympics  2022  Winter  Beijing  Alpine Skiing   \n",
       "3  MEX  2022 Winter Olympics  2022  Winter  Beijing  Alpine Skiing   \n",
       "4  USA  2022 Winter Olympics  2022  Winter  Beijing  Alpine Skiing   \n",
       "\n",
       "                 event medal  \n",
       "0  3,000 metres, Women   NaN  \n",
       "1    Mass Start, Women   NaN  \n",
       "2  Giant Slalom, Women   NaN  \n",
       "3       Super G, Women   NaN  \n",
       "4  Giant Slalom, Women   NaN  "
      ]
     },
     "execution_count": 13,
     "metadata": {},
     "output_type": "execute_result"
    }
   ],
   "source": [
    "df3.head()"
   ]
  },
  {
   "cell_type": "code",
   "execution_count": 14,
   "id": "5bf326c9-46ab-42d0-8329-560c0faef4f4",
   "metadata": {},
   "outputs": [
    {
     "data": {
      "text/plain": [
       "(4075, 17)"
      ]
     },
     "execution_count": 14,
     "metadata": {},
     "output_type": "execute_result"
    }
   ],
   "source": [
    "df3.shape"
   ]
  },
  {
   "cell_type": "code",
   "execution_count": 15,
   "id": "a7b94a7f-6029-455a-9c72-79c1bc0f8dd2",
   "metadata": {},
   "outputs": [
    {
     "name": "stdout",
     "output_type": "stream",
     "text": [
      "<class 'pandas.core.frame.DataFrame'>\n",
      "RangeIndex: 4075 entries, 0 to 4074\n",
      "Data columns (total 17 columns):\n",
      " #   Column       Non-Null Count  Dtype  \n",
      "---  ------       --------------  -----  \n",
      " 0   athlete_id   4075 non-null   int64  \n",
      " 1   name         4075 non-null   object \n",
      " 2   sex          4075 non-null   object \n",
      " 3   birth_year   4075 non-null   int64  \n",
      " 4   birth_day    4075 non-null   object \n",
      " 5   birth_place  4075 non-null   object \n",
      " 6   height       2318 non-null   float64\n",
      " 7   weight       2131 non-null   float64\n",
      " 8   team         4075 non-null   object \n",
      " 9   noc          4075 non-null   object \n",
      " 10  games        4075 non-null   object \n",
      " 11  year         4075 non-null   int64  \n",
      " 12  season       4075 non-null   object \n",
      " 13  city         4075 non-null   object \n",
      " 14  sport        4075 non-null   object \n",
      " 15  event        4075 non-null   object \n",
      " 16  medal        407 non-null    object \n",
      "dtypes: float64(2), int64(3), object(12)\n",
      "memory usage: 541.3+ KB\n"
     ]
    }
   ],
   "source": [
    "df3.info()"
   ]
  },
  {
   "cell_type": "markdown",
   "id": "0ee2ce68-ba57-4031-8f10-43234fd20aeb",
   "metadata": {},
   "source": [
    "# EDA"
   ]
  },
  {
   "cell_type": "code",
   "execution_count": 16,
   "id": "4ad1da76-0c39-4ad3-860b-b48bb5813a3e",
   "metadata": {},
   "outputs": [
    {
     "data": {
      "text/plain": [
       "array([1912, 1920, 1996, 1924, 1992, 2000, 2004, 2008, 1900, 1908, 1896,\n",
       "       1984, 1988, 1904, 2012, 2016, 1976, 1972, 1980, 1928, 2020, 1968,\n",
       "       1956, 1952, 1960, 1964, 1948, 1932, 1936, 2002, 2006, 2010, 1994,\n",
       "       1998, 2014, 2018])"
      ]
     },
     "execution_count": 16,
     "metadata": {},
     "output_type": "execute_result"
    }
   ],
   "source": [
    "df1['year'].unique()        # finding the unique years in df1"
   ]
  },
  {
   "cell_type": "code",
   "execution_count": 17,
   "id": "40a74da0-02aa-4270-adf3-69b2c8e9148e",
   "metadata": {},
   "outputs": [
    {
     "data": {
      "text/plain": [
       "2022"
      ]
     },
     "execution_count": 17,
     "metadata": {},
     "output_type": "execute_result"
    }
   ],
   "source": [
    "df3['year'].unique().item()    # finding the unique years in df3"
   ]
  },
  {
   "cell_type": "code",
   "execution_count": 18,
   "id": "1d329961-8405-4c3a-8c6d-fcc9c6537d11",
   "metadata": {},
   "outputs": [
    {
     "data": {
      "text/plain": [
       "1685"
      ]
     },
     "execution_count": 18,
     "metadata": {},
     "output_type": "execute_result"
    }
   ],
   "source": [
    "df1.duplicated().sum().item()   # finding the duplicate rows in df1"
   ]
  },
  {
   "cell_type": "code",
   "execution_count": 19,
   "id": "6b9388a9-9640-4f5f-9fab-2a650b359176",
   "metadata": {},
   "outputs": [
    {
     "data": {
      "text/plain": [
       "0"
      ]
     },
     "execution_count": 19,
     "metadata": {},
     "output_type": "execute_result"
    }
   ],
   "source": [
    "df3.duplicated().sum().item()   # finding the duplicate rows in df3"
   ]
  },
  {
   "cell_type": "code",
   "execution_count": 20,
   "id": "97365c36-bf93-4f50-8ee9-ec4bff0ef2e4",
   "metadata": {},
   "outputs": [],
   "source": [
    "df1 = df1.drop_duplicates()  # Dropping the duplicates from df1"
   ]
  },
  {
   "cell_type": "code",
   "execution_count": 21,
   "id": "bde94516-e9e7-4f0a-bd04-9f83689f48d3",
   "metadata": {},
   "outputs": [
    {
     "data": {
      "text/plain": [
       "(232837, 17)"
      ]
     },
     "execution_count": 21,
     "metadata": {},
     "output_type": "execute_result"
    }
   ],
   "source": [
    "df1.shape"
   ]
  },
  {
   "cell_type": "markdown",
   "id": "9039d74a-d32d-45ff-868a-6cfda1c2cb57",
   "metadata": {},
   "source": [
    "# Concatenating df1 and df3 into a new dataframe"
   ]
  },
  {
   "cell_type": "code",
   "execution_count": 22,
   "id": "c57e1942-8f02-4952-b353-6d33e87a041a",
   "metadata": {},
   "outputs": [],
   "source": [
    "comb_df = pd.concat([df1,df3]) "
   ]
  },
  {
   "cell_type": "code",
   "execution_count": 23,
   "id": "dba5626e-0ebb-49bc-9b4e-aec1f800e246",
   "metadata": {},
   "outputs": [
    {
     "data": {
      "text/html": [
       "<div>\n",
       "<style scoped>\n",
       "    .dataframe tbody tr th:only-of-type {\n",
       "        vertical-align: middle;\n",
       "    }\n",
       "\n",
       "    .dataframe tbody tr th {\n",
       "        vertical-align: top;\n",
       "    }\n",
       "\n",
       "    .dataframe thead th {\n",
       "        text-align: right;\n",
       "    }\n",
       "</style>\n",
       "<table border=\"1\" class=\"dataframe\">\n",
       "  <thead>\n",
       "    <tr style=\"text-align: right;\">\n",
       "      <th></th>\n",
       "      <th>athlete_id</th>\n",
       "      <th>name</th>\n",
       "      <th>sex</th>\n",
       "      <th>birth_year</th>\n",
       "      <th>birth_day</th>\n",
       "      <th>birth_place</th>\n",
       "      <th>height</th>\n",
       "      <th>weight</th>\n",
       "      <th>team</th>\n",
       "      <th>noc</th>\n",
       "      <th>games</th>\n",
       "      <th>year</th>\n",
       "      <th>season</th>\n",
       "      <th>city</th>\n",
       "      <th>sport</th>\n",
       "      <th>event</th>\n",
       "      <th>medal</th>\n",
       "    </tr>\n",
       "  </thead>\n",
       "  <tbody>\n",
       "    <tr>\n",
       "      <th>0</th>\n",
       "      <td>1</td>\n",
       "      <td>Jean-François Blanchy</td>\n",
       "      <td>M</td>\n",
       "      <td>1886.0</td>\n",
       "      <td>12 December</td>\n",
       "      <td>Bordeaux, Gironde (FRA)</td>\n",
       "      <td>NaN</td>\n",
       "      <td>NaN</td>\n",
       "      <td>France</td>\n",
       "      <td>FRA</td>\n",
       "      <td>1912 Summer Olympics</td>\n",
       "      <td>1912</td>\n",
       "      <td>Summer</td>\n",
       "      <td>Stockholm</td>\n",
       "      <td>Tennis</td>\n",
       "      <td>Doubles, Men</td>\n",
       "      <td>NaN</td>\n",
       "    </tr>\n",
       "    <tr>\n",
       "      <th>1</th>\n",
       "      <td>1</td>\n",
       "      <td>Jean-François Blanchy</td>\n",
       "      <td>M</td>\n",
       "      <td>1886.0</td>\n",
       "      <td>12 December</td>\n",
       "      <td>Bordeaux, Gironde (FRA)</td>\n",
       "      <td>NaN</td>\n",
       "      <td>NaN</td>\n",
       "      <td>France</td>\n",
       "      <td>FRA</td>\n",
       "      <td>1912 Summer Olympics</td>\n",
       "      <td>1912</td>\n",
       "      <td>Summer</td>\n",
       "      <td>Stockholm</td>\n",
       "      <td>Tennis</td>\n",
       "      <td>Singles, Men</td>\n",
       "      <td>NaN</td>\n",
       "    </tr>\n",
       "    <tr>\n",
       "      <th>2</th>\n",
       "      <td>1</td>\n",
       "      <td>Jean-François Blanchy</td>\n",
       "      <td>M</td>\n",
       "      <td>1886.0</td>\n",
       "      <td>12 December</td>\n",
       "      <td>Bordeaux, Gironde (FRA)</td>\n",
       "      <td>NaN</td>\n",
       "      <td>NaN</td>\n",
       "      <td>France</td>\n",
       "      <td>FRA</td>\n",
       "      <td>1920 Summer Olympics</td>\n",
       "      <td>1920</td>\n",
       "      <td>Summer</td>\n",
       "      <td>Antwerpen</td>\n",
       "      <td>Tennis</td>\n",
       "      <td>Doubles, Men</td>\n",
       "      <td>NaN</td>\n",
       "    </tr>\n",
       "    <tr>\n",
       "      <th>3</th>\n",
       "      <td>1</td>\n",
       "      <td>Jean-François Blanchy</td>\n",
       "      <td>M</td>\n",
       "      <td>1886.0</td>\n",
       "      <td>12 December</td>\n",
       "      <td>Bordeaux, Gironde (FRA)</td>\n",
       "      <td>NaN</td>\n",
       "      <td>NaN</td>\n",
       "      <td>France</td>\n",
       "      <td>FRA</td>\n",
       "      <td>1920 Summer Olympics</td>\n",
       "      <td>1920</td>\n",
       "      <td>Summer</td>\n",
       "      <td>Antwerpen</td>\n",
       "      <td>Tennis</td>\n",
       "      <td>Doubles, Mixed</td>\n",
       "      <td>NaN</td>\n",
       "    </tr>\n",
       "    <tr>\n",
       "      <th>4</th>\n",
       "      <td>1</td>\n",
       "      <td>Jean-François Blanchy</td>\n",
       "      <td>M</td>\n",
       "      <td>1886.0</td>\n",
       "      <td>12 December</td>\n",
       "      <td>Bordeaux, Gironde (FRA)</td>\n",
       "      <td>NaN</td>\n",
       "      <td>NaN</td>\n",
       "      <td>France</td>\n",
       "      <td>FRA</td>\n",
       "      <td>1920 Summer Olympics</td>\n",
       "      <td>1920</td>\n",
       "      <td>Summer</td>\n",
       "      <td>Antwerpen</td>\n",
       "      <td>Tennis</td>\n",
       "      <td>Singles, Men</td>\n",
       "      <td>NaN</td>\n",
       "    </tr>\n",
       "  </tbody>\n",
       "</table>\n",
       "</div>"
      ],
      "text/plain": [
       "   athlete_id                   name sex  birth_year     birth_day  \\\n",
       "0           1  Jean-François Blanchy   M      1886.0  12 December    \n",
       "1           1  Jean-François Blanchy   M      1886.0  12 December    \n",
       "2           1  Jean-François Blanchy   M      1886.0  12 December    \n",
       "3           1  Jean-François Blanchy   M      1886.0  12 December    \n",
       "4           1  Jean-François Blanchy   M      1886.0  12 December    \n",
       "\n",
       "               birth_place  height weight    team  noc                 games  \\\n",
       "0  Bordeaux, Gironde (FRA)     NaN    NaN  France  FRA  1912 Summer Olympics   \n",
       "1  Bordeaux, Gironde (FRA)     NaN    NaN  France  FRA  1912 Summer Olympics   \n",
       "2  Bordeaux, Gironde (FRA)     NaN    NaN  France  FRA  1920 Summer Olympics   \n",
       "3  Bordeaux, Gironde (FRA)     NaN    NaN  France  FRA  1920 Summer Olympics   \n",
       "4  Bordeaux, Gironde (FRA)     NaN    NaN  France  FRA  1920 Summer Olympics   \n",
       "\n",
       "   year  season       city   sport           event medal  \n",
       "0  1912  Summer  Stockholm  Tennis    Doubles, Men   NaN  \n",
       "1  1912  Summer  Stockholm  Tennis    Singles, Men   NaN  \n",
       "2  1920  Summer  Antwerpen  Tennis    Doubles, Men   NaN  \n",
       "3  1920  Summer  Antwerpen  Tennis  Doubles, Mixed   NaN  \n",
       "4  1920  Summer  Antwerpen  Tennis    Singles, Men   NaN  "
      ]
     },
     "execution_count": 23,
     "metadata": {},
     "output_type": "execute_result"
    }
   ],
   "source": [
    "comb_df.head()"
   ]
  },
  {
   "cell_type": "code",
   "execution_count": 24,
   "id": "b5afcfaf-79bc-4e52-aa1e-1dd8fa1589de",
   "metadata": {},
   "outputs": [
    {
     "data": {
      "text/plain": [
       "0"
      ]
     },
     "execution_count": 24,
     "metadata": {},
     "output_type": "execute_result"
    }
   ],
   "source": [
    "comb_df.duplicated().sum().item()"
   ]
  },
  {
   "cell_type": "markdown",
   "id": "a8632170-1157-4147-b5ef-38813f9e0e9c",
   "metadata": {},
   "source": [
    "# 2. How many lines are there?"
   ]
  },
  {
   "cell_type": "code",
   "execution_count": 25,
   "id": "5a56bdd8-df24-4a44-9c4c-321198a61734",
   "metadata": {},
   "outputs": [
    {
     "data": {
      "text/plain": [
       "(236912, 17)"
      ]
     },
     "execution_count": 25,
     "metadata": {},
     "output_type": "execute_result"
    }
   ],
   "source": [
    "# Total Rows and columns \n",
    "comb_df.shape"
   ]
  },
  {
   "cell_type": "markdown",
   "id": "75b273b6-e004-40e0-a6ad-235e212fe18e",
   "metadata": {},
   "source": [
    "# 3.Display the first 3 rows of data after it has been sorted by the athlete’s name column in ascending order."
   ]
  },
  {
   "cell_type": "code",
   "execution_count": 26,
   "id": "336043af-3e1d-4137-a1cd-e6804612fc7e",
   "metadata": {},
   "outputs": [
    {
     "data": {
      "text/html": [
       "<div>\n",
       "<style scoped>\n",
       "    .dataframe tbody tr th:only-of-type {\n",
       "        vertical-align: middle;\n",
       "    }\n",
       "\n",
       "    .dataframe tbody tr th {\n",
       "        vertical-align: top;\n",
       "    }\n",
       "\n",
       "    .dataframe thead th {\n",
       "        text-align: right;\n",
       "    }\n",
       "</style>\n",
       "<table border=\"1\" class=\"dataframe\">\n",
       "  <thead>\n",
       "    <tr style=\"text-align: right;\">\n",
       "      <th></th>\n",
       "      <th>athlete_id</th>\n",
       "      <th>name</th>\n",
       "      <th>sex</th>\n",
       "      <th>birth_year</th>\n",
       "      <th>birth_day</th>\n",
       "      <th>birth_place</th>\n",
       "      <th>height</th>\n",
       "      <th>weight</th>\n",
       "      <th>team</th>\n",
       "      <th>noc</th>\n",
       "      <th>games</th>\n",
       "      <th>year</th>\n",
       "      <th>season</th>\n",
       "      <th>city</th>\n",
       "      <th>sport</th>\n",
       "      <th>event</th>\n",
       "      <th>medal</th>\n",
       "    </tr>\n",
       "  </thead>\n",
       "  <tbody>\n",
       "    <tr>\n",
       "      <th>224654</th>\n",
       "      <td>890023</td>\n",
       "      <td>Antony</td>\n",
       "      <td>M</td>\n",
       "      <td>1873.0</td>\n",
       "      <td>3 February</td>\n",
       "      <td>Paris VIIIe, Paris (FRA)</td>\n",
       "      <td>NaN</td>\n",
       "      <td>NaN</td>\n",
       "      <td>France</td>\n",
       "      <td>FRA</td>\n",
       "      <td>1900 Summer Olympics</td>\n",
       "      <td>1900</td>\n",
       "      <td>Summer</td>\n",
       "      <td>Paris</td>\n",
       "      <td>Automobile Racing</td>\n",
       "      <td>Paris-Toulouse-Paris, Cars, Men</td>\n",
       "      <td>NaN</td>\n",
       "    </tr>\n",
       "    <tr>\n",
       "      <th>208506</th>\n",
       "      <td>128282</td>\n",
       "      <td>Camille</td>\n",
       "      <td>F</td>\n",
       "      <td>1996.0</td>\n",
       "      <td>28 August</td>\n",
       "      <td>Delémont (SUI)</td>\n",
       "      <td>165.0</td>\n",
       "      <td>55</td>\n",
       "      <td>Portugal</td>\n",
       "      <td>POR</td>\n",
       "      <td>2014 Winter Olympics</td>\n",
       "      <td>2014</td>\n",
       "      <td>Winter</td>\n",
       "      <td>Sochi</td>\n",
       "      <td>Alpine Skiing</td>\n",
       "      <td>Giant Slalom, Women</td>\n",
       "      <td>NaN</td>\n",
       "    </tr>\n",
       "    <tr>\n",
       "      <th>208507</th>\n",
       "      <td>128282</td>\n",
       "      <td>Camille</td>\n",
       "      <td>F</td>\n",
       "      <td>1996.0</td>\n",
       "      <td>28 August</td>\n",
       "      <td>Delémont (SUI)</td>\n",
       "      <td>165.0</td>\n",
       "      <td>55</td>\n",
       "      <td>Portugal</td>\n",
       "      <td>POR</td>\n",
       "      <td>2014 Winter Olympics</td>\n",
       "      <td>2014</td>\n",
       "      <td>Winter</td>\n",
       "      <td>Sochi</td>\n",
       "      <td>Alpine Skiing</td>\n",
       "      <td>Slalom, Women</td>\n",
       "      <td>NaN</td>\n",
       "    </tr>\n",
       "  </tbody>\n",
       "</table>\n",
       "</div>"
      ],
      "text/plain": [
       "        athlete_id      name sex  birth_year    birth_day  \\\n",
       "224654      890023    Antony   M      1873.0  3 February    \n",
       "208506      128282   Camille   F      1996.0   28 August    \n",
       "208507      128282   Camille   F      1996.0   28 August    \n",
       "\n",
       "                     birth_place  height weight      team  noc  \\\n",
       "224654  Paris VIIIe, Paris (FRA)     NaN    NaN    France  FRA   \n",
       "208506            Delémont (SUI)   165.0     55  Portugal  POR   \n",
       "208507            Delémont (SUI)   165.0     55  Portugal  POR   \n",
       "\n",
       "                       games  year  season   city              sport  \\\n",
       "224654  1900 Summer Olympics  1900  Summer  Paris  Automobile Racing   \n",
       "208506  2014 Winter Olympics  2014  Winter  Sochi      Alpine Skiing   \n",
       "208507  2014 Winter Olympics  2014  Winter  Sochi      Alpine Skiing   \n",
       "\n",
       "                                  event medal  \n",
       "224654  Paris-Toulouse-Paris, Cars, Men   NaN  \n",
       "208506              Giant Slalom, Women   NaN  \n",
       "208507                    Slalom, Women   NaN  "
      ]
     },
     "execution_count": 26,
     "metadata": {},
     "output_type": "execute_result"
    }
   ],
   "source": [
    "# Sorting the dataframe in ascending order on 'Name' column and returning the top 3 rows\n",
    "\n",
    "comb_df.sort_values(by = 'name', ascending = True).head(3)"
   ]
  },
  {
   "cell_type": "markdown",
   "id": "73815ac5-28be-43a5-85f8-ed5072db8167",
   "metadata": {},
   "source": [
    "# 4. Display the last 3 rows of data."
   ]
  },
  {
   "cell_type": "code",
   "execution_count": 27,
   "id": "a5f597ae-c85a-4c4f-b7fb-effd88abbbbe",
   "metadata": {},
   "outputs": [
    {
     "data": {
      "text/html": [
       "<div>\n",
       "<style scoped>\n",
       "    .dataframe tbody tr th:only-of-type {\n",
       "        vertical-align: middle;\n",
       "    }\n",
       "\n",
       "    .dataframe tbody tr th {\n",
       "        vertical-align: top;\n",
       "    }\n",
       "\n",
       "    .dataframe thead th {\n",
       "        text-align: right;\n",
       "    }\n",
       "</style>\n",
       "<table border=\"1\" class=\"dataframe\">\n",
       "  <thead>\n",
       "    <tr style=\"text-align: right;\">\n",
       "      <th></th>\n",
       "      <th>athlete_id</th>\n",
       "      <th>name</th>\n",
       "      <th>sex</th>\n",
       "      <th>birth_year</th>\n",
       "      <th>birth_day</th>\n",
       "      <th>birth_place</th>\n",
       "      <th>height</th>\n",
       "      <th>weight</th>\n",
       "      <th>team</th>\n",
       "      <th>noc</th>\n",
       "      <th>games</th>\n",
       "      <th>year</th>\n",
       "      <th>season</th>\n",
       "      <th>city</th>\n",
       "      <th>sport</th>\n",
       "      <th>event</th>\n",
       "      <th>medal</th>\n",
       "    </tr>\n",
       "  </thead>\n",
       "  <tbody>\n",
       "    <tr>\n",
       "      <th>4072</th>\n",
       "      <td>2302065</td>\n",
       "      <td>Jake Vedder</td>\n",
       "      <td>M</td>\n",
       "      <td>1998.0</td>\n",
       "      <td>16 April</td>\n",
       "      <td>Pinckney, Michigan (USA)</td>\n",
       "      <td>NaN</td>\n",
       "      <td>NaN</td>\n",
       "      <td>United States</td>\n",
       "      <td>USA</td>\n",
       "      <td>2022 Winter Olympics</td>\n",
       "      <td>2022</td>\n",
       "      <td>Winter</td>\n",
       "      <td>Beijing</td>\n",
       "      <td>Snowboarding</td>\n",
       "      <td>Team Boardercross, Mixed</td>\n",
       "      <td>NaN</td>\n",
       "    </tr>\n",
       "    <tr>\n",
       "      <th>4073</th>\n",
       "      <td>2302066</td>\n",
       "      <td>Austin Kleba</td>\n",
       "      <td>M</td>\n",
       "      <td>1999.0</td>\n",
       "      <td>27 July</td>\n",
       "      <td>Campton Hills, Illinois (USA)</td>\n",
       "      <td>NaN</td>\n",
       "      <td>NaN</td>\n",
       "      <td>United States</td>\n",
       "      <td>USA</td>\n",
       "      <td>2022 Winter Olympics</td>\n",
       "      <td>2022</td>\n",
       "      <td>Winter</td>\n",
       "      <td>Beijing</td>\n",
       "      <td>Speed Skating</td>\n",
       "      <td>1,000 metres, Men</td>\n",
       "      <td>NaN</td>\n",
       "    </tr>\n",
       "    <tr>\n",
       "      <th>4074</th>\n",
       "      <td>2302066</td>\n",
       "      <td>Austin Kleba</td>\n",
       "      <td>M</td>\n",
       "      <td>1999.0</td>\n",
       "      <td>27 July</td>\n",
       "      <td>Campton Hills, Illinois (USA)</td>\n",
       "      <td>NaN</td>\n",
       "      <td>NaN</td>\n",
       "      <td>United States</td>\n",
       "      <td>USA</td>\n",
       "      <td>2022 Winter Olympics</td>\n",
       "      <td>2022</td>\n",
       "      <td>Winter</td>\n",
       "      <td>Beijing</td>\n",
       "      <td>Speed Skating</td>\n",
       "      <td>500 metres, Men</td>\n",
       "      <td>NaN</td>\n",
       "    </tr>\n",
       "  </tbody>\n",
       "</table>\n",
       "</div>"
      ],
      "text/plain": [
       "      athlete_id          name sex  birth_year  birth_day  \\\n",
       "4072     2302065   Jake Vedder   M      1998.0  16 April    \n",
       "4073     2302066  Austin Kleba   M      1999.0   27 July    \n",
       "4074     2302066  Austin Kleba   M      1999.0   27 July    \n",
       "\n",
       "                        birth_place  height weight           team  noc  \\\n",
       "4072       Pinckney, Michigan (USA)     NaN    NaN  United States  USA   \n",
       "4073  Campton Hills, Illinois (USA)     NaN    NaN  United States  USA   \n",
       "4074  Campton Hills, Illinois (USA)     NaN    NaN  United States  USA   \n",
       "\n",
       "                     games  year  season     city          sport  \\\n",
       "4072  2022 Winter Olympics  2022  Winter  Beijing   Snowboarding   \n",
       "4073  2022 Winter Olympics  2022  Winter  Beijing  Speed Skating   \n",
       "4074  2022 Winter Olympics  2022  Winter  Beijing  Speed Skating   \n",
       "\n",
       "                         event medal  \n",
       "4072  Team Boardercross, Mixed   NaN  \n",
       "4073         1,000 metres, Men   NaN  \n",
       "4074           500 metres, Men   NaN  "
      ]
     },
     "execution_count": 27,
     "metadata": {},
     "output_type": "execute_result"
    }
   ],
   "source": [
    "# Returning the last 3 rows\n",
    "\n",
    "comb_df.tail(3)"
   ]
  },
  {
   "cell_type": "markdown",
   "id": "a9b76d3c-346b-49b8-af2d-81abea01d2b8",
   "metadata": {},
   "source": [
    "# 5. Display statistical information for the numeric columns"
   ]
  },
  {
   "cell_type": "code",
   "execution_count": 28,
   "id": "f9cccb8e-ea0c-4042-8e5d-bd3324c1d16a",
   "metadata": {},
   "outputs": [
    {
     "data": {
      "text/html": [
       "<div>\n",
       "<style scoped>\n",
       "    .dataframe tbody tr th:only-of-type {\n",
       "        vertical-align: middle;\n",
       "    }\n",
       "\n",
       "    .dataframe tbody tr th {\n",
       "        vertical-align: top;\n",
       "    }\n",
       "\n",
       "    .dataframe thead th {\n",
       "        text-align: right;\n",
       "    }\n",
       "</style>\n",
       "<table border=\"1\" class=\"dataframe\">\n",
       "  <thead>\n",
       "    <tr style=\"text-align: right;\">\n",
       "      <th></th>\n",
       "      <th>athlete_id</th>\n",
       "      <th>birth_year</th>\n",
       "      <th>height</th>\n",
       "      <th>year</th>\n",
       "    </tr>\n",
       "  </thead>\n",
       "  <tbody>\n",
       "    <tr>\n",
       "      <th>count</th>\n",
       "      <td>2.369120e+05</td>\n",
       "      <td>233153.000000</td>\n",
       "      <td>179745.000000</td>\n",
       "      <td>236912.000000</td>\n",
       "    </tr>\n",
       "    <tr>\n",
       "      <th>mean</th>\n",
       "      <td>1.095373e+05</td>\n",
       "      <td>1954.747496</td>\n",
       "      <td>173.797107</td>\n",
       "      <td>1979.751528</td>\n",
       "    </tr>\n",
       "    <tr>\n",
       "      <th>std</th>\n",
       "      <td>2.216873e+05</td>\n",
       "      <td>32.361077</td>\n",
       "      <td>9.944364</td>\n",
       "      <td>31.960432</td>\n",
       "    </tr>\n",
       "    <tr>\n",
       "      <th>min</th>\n",
       "      <td>1.000000e+00</td>\n",
       "      <td>1830.000000</td>\n",
       "      <td>127.000000</td>\n",
       "      <td>1896.000000</td>\n",
       "    </tr>\n",
       "    <tr>\n",
       "      <th>25%</th>\n",
       "      <td>4.134500e+04</td>\n",
       "      <td>1936.000000</td>\n",
       "      <td>167.000000</td>\n",
       "      <td>1960.000000</td>\n",
       "    </tr>\n",
       "    <tr>\n",
       "      <th>50%</th>\n",
       "      <td>7.487950e+04</td>\n",
       "      <td>1964.000000</td>\n",
       "      <td>174.000000</td>\n",
       "      <td>1988.000000</td>\n",
       "    </tr>\n",
       "    <tr>\n",
       "      <th>75%</th>\n",
       "      <td>1.071990e+05</td>\n",
       "      <td>1980.000000</td>\n",
       "      <td>180.000000</td>\n",
       "      <td>2004.000000</td>\n",
       "    </tr>\n",
       "    <tr>\n",
       "      <th>max</th>\n",
       "      <td>2.200000e+07</td>\n",
       "      <td>2009.000000</td>\n",
       "      <td>214.000000</td>\n",
       "      <td>2022.000000</td>\n",
       "    </tr>\n",
       "  </tbody>\n",
       "</table>\n",
       "</div>"
      ],
      "text/plain": [
       "         athlete_id     birth_year         height           year\n",
       "count  2.369120e+05  233153.000000  179745.000000  236912.000000\n",
       "mean   1.095373e+05    1954.747496     173.797107    1979.751528\n",
       "std    2.216873e+05      32.361077       9.944364      31.960432\n",
       "min    1.000000e+00    1830.000000     127.000000    1896.000000\n",
       "25%    4.134500e+04    1936.000000     167.000000    1960.000000\n",
       "50%    7.487950e+04    1964.000000     174.000000    1988.000000\n",
       "75%    1.071990e+05    1980.000000     180.000000    2004.000000\n",
       "max    2.200000e+07    2009.000000     214.000000    2022.000000"
      ]
     },
     "execution_count": 28,
     "metadata": {},
     "output_type": "execute_result"
    }
   ],
   "source": [
    "# Statitical information of numeric columns\n",
    "\n",
    "comb_df.select_dtypes(include = ['number']).describe()"
   ]
  },
  {
   "cell_type": "markdown",
   "id": "46e9fa4e-3571-4897-9b6e-8b9d4e7e81ae",
   "metadata": {},
   "source": [
    "# 6. Total no of unique values in each column \n"
   ]
  },
  {
   "cell_type": "code",
   "execution_count": 29,
   "id": "171965a6-6add-4712-a3fb-f72a661d074c",
   "metadata": {},
   "outputs": [
    {
     "data": {
      "text/plain": [
       "athlete_id     95618\n",
       "name           94393\n",
       "sex                2\n",
       "birth_year       176\n",
       "birth_day        379\n",
       "birth_place    21356\n",
       "height            84\n",
       "weight           642\n",
       "team             593\n",
       "noc              222\n",
       "games             53\n",
       "year              37\n",
       "season             2\n",
       "city              43\n",
       "sport             91\n",
       "event            852\n",
       "medal              3\n",
       "dtype: int64"
      ]
     },
     "execution_count": 29,
     "metadata": {},
     "output_type": "execute_result"
    }
   ],
   "source": [
    "comb_df.nunique()"
   ]
  },
  {
   "cell_type": "markdown",
   "id": "a3f71580-d888-4746-9d89-bfd9823d0e6f",
   "metadata": {},
   "source": [
    "# 7. Replacing USA with United States in column 'noc'."
   ]
  },
  {
   "cell_type": "code",
   "execution_count": 30,
   "id": "3b29e8f9-90e1-4091-a710-a136202b9d33",
   "metadata": {},
   "outputs": [],
   "source": [
    "comb_df['noc'] = comb_df['noc'].replace('USA','United States')"
   ]
  },
  {
   "cell_type": "code",
   "execution_count": 31,
   "id": "8fbbb7e2-0064-4e26-9515-c0e07e891fa4",
   "metadata": {},
   "outputs": [
    {
     "data": {
      "text/html": [
       "<div>\n",
       "<style scoped>\n",
       "    .dataframe tbody tr th:only-of-type {\n",
       "        vertical-align: middle;\n",
       "    }\n",
       "\n",
       "    .dataframe tbody tr th {\n",
       "        vertical-align: top;\n",
       "    }\n",
       "\n",
       "    .dataframe thead th {\n",
       "        text-align: right;\n",
       "    }\n",
       "</style>\n",
       "<table border=\"1\" class=\"dataframe\">\n",
       "  <thead>\n",
       "    <tr style=\"text-align: right;\">\n",
       "      <th></th>\n",
       "      <th>athlete_id</th>\n",
       "      <th>name</th>\n",
       "      <th>sex</th>\n",
       "      <th>birth_year</th>\n",
       "      <th>birth_day</th>\n",
       "      <th>birth_place</th>\n",
       "      <th>height</th>\n",
       "      <th>weight</th>\n",
       "      <th>team</th>\n",
       "      <th>noc</th>\n",
       "      <th>games</th>\n",
       "      <th>year</th>\n",
       "      <th>season</th>\n",
       "      <th>city</th>\n",
       "      <th>sport</th>\n",
       "      <th>event</th>\n",
       "      <th>medal</th>\n",
       "    </tr>\n",
       "  </thead>\n",
       "  <tbody>\n",
       "    <tr>\n",
       "      <th>0</th>\n",
       "      <td>1</td>\n",
       "      <td>Jean-François Blanchy</td>\n",
       "      <td>M</td>\n",
       "      <td>1886.0</td>\n",
       "      <td>12 December</td>\n",
       "      <td>Bordeaux, Gironde (FRA)</td>\n",
       "      <td>NaN</td>\n",
       "      <td>NaN</td>\n",
       "      <td>France</td>\n",
       "      <td>FRA</td>\n",
       "      <td>1912 Summer Olympics</td>\n",
       "      <td>1912</td>\n",
       "      <td>Summer</td>\n",
       "      <td>Stockholm</td>\n",
       "      <td>Tennis</td>\n",
       "      <td>Doubles, Men</td>\n",
       "      <td>NaN</td>\n",
       "    </tr>\n",
       "    <tr>\n",
       "      <th>1</th>\n",
       "      <td>1</td>\n",
       "      <td>Jean-François Blanchy</td>\n",
       "      <td>M</td>\n",
       "      <td>1886.0</td>\n",
       "      <td>12 December</td>\n",
       "      <td>Bordeaux, Gironde (FRA)</td>\n",
       "      <td>NaN</td>\n",
       "      <td>NaN</td>\n",
       "      <td>France</td>\n",
       "      <td>FRA</td>\n",
       "      <td>1912 Summer Olympics</td>\n",
       "      <td>1912</td>\n",
       "      <td>Summer</td>\n",
       "      <td>Stockholm</td>\n",
       "      <td>Tennis</td>\n",
       "      <td>Singles, Men</td>\n",
       "      <td>NaN</td>\n",
       "    </tr>\n",
       "    <tr>\n",
       "      <th>2</th>\n",
       "      <td>1</td>\n",
       "      <td>Jean-François Blanchy</td>\n",
       "      <td>M</td>\n",
       "      <td>1886.0</td>\n",
       "      <td>12 December</td>\n",
       "      <td>Bordeaux, Gironde (FRA)</td>\n",
       "      <td>NaN</td>\n",
       "      <td>NaN</td>\n",
       "      <td>France</td>\n",
       "      <td>FRA</td>\n",
       "      <td>1920 Summer Olympics</td>\n",
       "      <td>1920</td>\n",
       "      <td>Summer</td>\n",
       "      <td>Antwerpen</td>\n",
       "      <td>Tennis</td>\n",
       "      <td>Doubles, Men</td>\n",
       "      <td>NaN</td>\n",
       "    </tr>\n",
       "    <tr>\n",
       "      <th>3</th>\n",
       "      <td>1</td>\n",
       "      <td>Jean-François Blanchy</td>\n",
       "      <td>M</td>\n",
       "      <td>1886.0</td>\n",
       "      <td>12 December</td>\n",
       "      <td>Bordeaux, Gironde (FRA)</td>\n",
       "      <td>NaN</td>\n",
       "      <td>NaN</td>\n",
       "      <td>France</td>\n",
       "      <td>FRA</td>\n",
       "      <td>1920 Summer Olympics</td>\n",
       "      <td>1920</td>\n",
       "      <td>Summer</td>\n",
       "      <td>Antwerpen</td>\n",
       "      <td>Tennis</td>\n",
       "      <td>Doubles, Mixed</td>\n",
       "      <td>NaN</td>\n",
       "    </tr>\n",
       "    <tr>\n",
       "      <th>4</th>\n",
       "      <td>1</td>\n",
       "      <td>Jean-François Blanchy</td>\n",
       "      <td>M</td>\n",
       "      <td>1886.0</td>\n",
       "      <td>12 December</td>\n",
       "      <td>Bordeaux, Gironde (FRA)</td>\n",
       "      <td>NaN</td>\n",
       "      <td>NaN</td>\n",
       "      <td>France</td>\n",
       "      <td>FRA</td>\n",
       "      <td>1920 Summer Olympics</td>\n",
       "      <td>1920</td>\n",
       "      <td>Summer</td>\n",
       "      <td>Antwerpen</td>\n",
       "      <td>Tennis</td>\n",
       "      <td>Singles, Men</td>\n",
       "      <td>NaN</td>\n",
       "    </tr>\n",
       "    <tr>\n",
       "      <th>...</th>\n",
       "      <td>...</td>\n",
       "      <td>...</td>\n",
       "      <td>...</td>\n",
       "      <td>...</td>\n",
       "      <td>...</td>\n",
       "      <td>...</td>\n",
       "      <td>...</td>\n",
       "      <td>...</td>\n",
       "      <td>...</td>\n",
       "      <td>...</td>\n",
       "      <td>...</td>\n",
       "      <td>...</td>\n",
       "      <td>...</td>\n",
       "      <td>...</td>\n",
       "      <td>...</td>\n",
       "      <td>...</td>\n",
       "      <td>...</td>\n",
       "    </tr>\n",
       "    <tr>\n",
       "      <th>4070</th>\n",
       "      <td>2302054</td>\n",
       "      <td>Ashley Farquharson</td>\n",
       "      <td>F</td>\n",
       "      <td>1999.0</td>\n",
       "      <td>16 March</td>\n",
       "      <td>Sacramento, California (USA)</td>\n",
       "      <td>NaN</td>\n",
       "      <td>NaN</td>\n",
       "      <td>United States</td>\n",
       "      <td>United States</td>\n",
       "      <td>2022 Winter Olympics</td>\n",
       "      <td>2022</td>\n",
       "      <td>Winter</td>\n",
       "      <td>Beijing</td>\n",
       "      <td>Luge</td>\n",
       "      <td>Team Relay, Mixed</td>\n",
       "      <td>NaN</td>\n",
       "    </tr>\n",
       "    <tr>\n",
       "      <th>4071</th>\n",
       "      <td>2302065</td>\n",
       "      <td>Jake Vedder</td>\n",
       "      <td>M</td>\n",
       "      <td>1998.0</td>\n",
       "      <td>16 April</td>\n",
       "      <td>Pinckney, Michigan (USA)</td>\n",
       "      <td>NaN</td>\n",
       "      <td>NaN</td>\n",
       "      <td>United States</td>\n",
       "      <td>United States</td>\n",
       "      <td>2022 Winter Olympics</td>\n",
       "      <td>2022</td>\n",
       "      <td>Winter</td>\n",
       "      <td>Beijing</td>\n",
       "      <td>Snowboarding</td>\n",
       "      <td>Boardercross, Men</td>\n",
       "      <td>NaN</td>\n",
       "    </tr>\n",
       "    <tr>\n",
       "      <th>4072</th>\n",
       "      <td>2302065</td>\n",
       "      <td>Jake Vedder</td>\n",
       "      <td>M</td>\n",
       "      <td>1998.0</td>\n",
       "      <td>16 April</td>\n",
       "      <td>Pinckney, Michigan (USA)</td>\n",
       "      <td>NaN</td>\n",
       "      <td>NaN</td>\n",
       "      <td>United States</td>\n",
       "      <td>United States</td>\n",
       "      <td>2022 Winter Olympics</td>\n",
       "      <td>2022</td>\n",
       "      <td>Winter</td>\n",
       "      <td>Beijing</td>\n",
       "      <td>Snowboarding</td>\n",
       "      <td>Team Boardercross, Mixed</td>\n",
       "      <td>NaN</td>\n",
       "    </tr>\n",
       "    <tr>\n",
       "      <th>4073</th>\n",
       "      <td>2302066</td>\n",
       "      <td>Austin Kleba</td>\n",
       "      <td>M</td>\n",
       "      <td>1999.0</td>\n",
       "      <td>27 July</td>\n",
       "      <td>Campton Hills, Illinois (USA)</td>\n",
       "      <td>NaN</td>\n",
       "      <td>NaN</td>\n",
       "      <td>United States</td>\n",
       "      <td>United States</td>\n",
       "      <td>2022 Winter Olympics</td>\n",
       "      <td>2022</td>\n",
       "      <td>Winter</td>\n",
       "      <td>Beijing</td>\n",
       "      <td>Speed Skating</td>\n",
       "      <td>1,000 metres, Men</td>\n",
       "      <td>NaN</td>\n",
       "    </tr>\n",
       "    <tr>\n",
       "      <th>4074</th>\n",
       "      <td>2302066</td>\n",
       "      <td>Austin Kleba</td>\n",
       "      <td>M</td>\n",
       "      <td>1999.0</td>\n",
       "      <td>27 July</td>\n",
       "      <td>Campton Hills, Illinois (USA)</td>\n",
       "      <td>NaN</td>\n",
       "      <td>NaN</td>\n",
       "      <td>United States</td>\n",
       "      <td>United States</td>\n",
       "      <td>2022 Winter Olympics</td>\n",
       "      <td>2022</td>\n",
       "      <td>Winter</td>\n",
       "      <td>Beijing</td>\n",
       "      <td>Speed Skating</td>\n",
       "      <td>500 metres, Men</td>\n",
       "      <td>NaN</td>\n",
       "    </tr>\n",
       "  </tbody>\n",
       "</table>\n",
       "<p>236912 rows × 17 columns</p>\n",
       "</div>"
      ],
      "text/plain": [
       "      athlete_id                   name sex  birth_year     birth_day  \\\n",
       "0              1  Jean-François Blanchy   M      1886.0  12 December    \n",
       "1              1  Jean-François Blanchy   M      1886.0  12 December    \n",
       "2              1  Jean-François Blanchy   M      1886.0  12 December    \n",
       "3              1  Jean-François Blanchy   M      1886.0  12 December    \n",
       "4              1  Jean-François Blanchy   M      1886.0  12 December    \n",
       "...          ...                    ...  ..         ...           ...   \n",
       "4070     2302054     Ashley Farquharson   F      1999.0     16 March    \n",
       "4071     2302065            Jake Vedder   M      1998.0     16 April    \n",
       "4072     2302065            Jake Vedder   M      1998.0     16 April    \n",
       "4073     2302066           Austin Kleba   M      1999.0      27 July    \n",
       "4074     2302066           Austin Kleba   M      1999.0      27 July    \n",
       "\n",
       "                        birth_place  height weight           team  \\\n",
       "0           Bordeaux, Gironde (FRA)     NaN    NaN         France   \n",
       "1           Bordeaux, Gironde (FRA)     NaN    NaN         France   \n",
       "2           Bordeaux, Gironde (FRA)     NaN    NaN         France   \n",
       "3           Bordeaux, Gironde (FRA)     NaN    NaN         France   \n",
       "4           Bordeaux, Gironde (FRA)     NaN    NaN         France   \n",
       "...                             ...     ...    ...            ...   \n",
       "4070   Sacramento, California (USA)     NaN    NaN  United States   \n",
       "4071       Pinckney, Michigan (USA)     NaN    NaN  United States   \n",
       "4072       Pinckney, Michigan (USA)     NaN    NaN  United States   \n",
       "4073  Campton Hills, Illinois (USA)     NaN    NaN  United States   \n",
       "4074  Campton Hills, Illinois (USA)     NaN    NaN  United States   \n",
       "\n",
       "                noc                 games  year  season       city  \\\n",
       "0               FRA  1912 Summer Olympics  1912  Summer  Stockholm   \n",
       "1               FRA  1912 Summer Olympics  1912  Summer  Stockholm   \n",
       "2               FRA  1920 Summer Olympics  1920  Summer  Antwerpen   \n",
       "3               FRA  1920 Summer Olympics  1920  Summer  Antwerpen   \n",
       "4               FRA  1920 Summer Olympics  1920  Summer  Antwerpen   \n",
       "...             ...                   ...   ...     ...        ...   \n",
       "4070  United States  2022 Winter Olympics  2022  Winter    Beijing   \n",
       "4071  United States  2022 Winter Olympics  2022  Winter    Beijing   \n",
       "4072  United States  2022 Winter Olympics  2022  Winter    Beijing   \n",
       "4073  United States  2022 Winter Olympics  2022  Winter    Beijing   \n",
       "4074  United States  2022 Winter Olympics  2022  Winter    Beijing   \n",
       "\n",
       "              sport                     event medal  \n",
       "0            Tennis              Doubles, Men   NaN  \n",
       "1            Tennis              Singles, Men   NaN  \n",
       "2            Tennis              Doubles, Men   NaN  \n",
       "3            Tennis            Doubles, Mixed   NaN  \n",
       "4            Tennis              Singles, Men   NaN  \n",
       "...             ...                       ...   ...  \n",
       "4070           Luge         Team Relay, Mixed   NaN  \n",
       "4071   Snowboarding         Boardercross, Men   NaN  \n",
       "4072   Snowboarding  Team Boardercross, Mixed   NaN  \n",
       "4073  Speed Skating         1,000 metres, Men   NaN  \n",
       "4074  Speed Skating           500 metres, Men   NaN  \n",
       "\n",
       "[236912 rows x 17 columns]"
      ]
     },
     "execution_count": 31,
     "metadata": {},
     "output_type": "execute_result"
    }
   ],
   "source": [
    "comb_df"
   ]
  },
  {
   "cell_type": "markdown",
   "id": "c72cbe47-eaaa-4591-973e-565a65c454ef",
   "metadata": {},
   "source": [
    "# 8. Selecting the last athlete in alphabetical order from the most recent Olympics.\n"
   ]
  },
  {
   "cell_type": "code",
   "execution_count": 32,
   "id": "e27e09f3-9b3d-46ca-9ce3-298cf7ed4acd",
   "metadata": {},
   "outputs": [
    {
     "data": {
      "text/html": [
       "<div>\n",
       "<style scoped>\n",
       "    .dataframe tbody tr th:only-of-type {\n",
       "        vertical-align: middle;\n",
       "    }\n",
       "\n",
       "    .dataframe tbody tr th {\n",
       "        vertical-align: top;\n",
       "    }\n",
       "\n",
       "    .dataframe thead th {\n",
       "        text-align: right;\n",
       "    }\n",
       "</style>\n",
       "<table border=\"1\" class=\"dataframe\">\n",
       "  <thead>\n",
       "    <tr style=\"text-align: right;\">\n",
       "      <th></th>\n",
       "      <th>athlete_id</th>\n",
       "      <th>name</th>\n",
       "      <th>sex</th>\n",
       "      <th>birth_year</th>\n",
       "      <th>birth_day</th>\n",
       "      <th>birth_place</th>\n",
       "      <th>height</th>\n",
       "      <th>weight</th>\n",
       "      <th>team</th>\n",
       "      <th>noc</th>\n",
       "      <th>games</th>\n",
       "      <th>year</th>\n",
       "      <th>season</th>\n",
       "      <th>city</th>\n",
       "      <th>sport</th>\n",
       "      <th>event</th>\n",
       "      <th>medal</th>\n",
       "    </tr>\n",
       "  </thead>\n",
       "  <tbody>\n",
       "    <tr>\n",
       "      <th>3528</th>\n",
       "      <td>148885</td>\n",
       "      <td>Živa Klemenčič</td>\n",
       "      <td>F</td>\n",
       "      <td>2001.0</td>\n",
       "      <td>7 January</td>\n",
       "      <td></td>\n",
       "      <td>NaN</td>\n",
       "      <td>NaN</td>\n",
       "      <td>Slovenia</td>\n",
       "      <td>SLO</td>\n",
       "      <td>2022 Winter Olympics</td>\n",
       "      <td>2022</td>\n",
       "      <td>Winter</td>\n",
       "      <td>Beijing</td>\n",
       "      <td>Biathlon</td>\n",
       "      <td>7.5 kilometres Sprint, Women</td>\n",
       "      <td>NaN</td>\n",
       "    </tr>\n",
       "  </tbody>\n",
       "</table>\n",
       "</div>"
      ],
      "text/plain": [
       "      athlete_id            name sex  birth_year   birth_day birth_place  \\\n",
       "3528      148885  Živa Klemenčič   F      2001.0  7 January                \n",
       "\n",
       "      height weight      team  noc                 games  year  season  \\\n",
       "3528     NaN    NaN  Slovenia  SLO  2022 Winter Olympics  2022  Winter   \n",
       "\n",
       "         city     sport                         event medal  \n",
       "3528  Beijing  Biathlon  7.5 kilometres Sprint, Women   NaN  "
      ]
     },
     "execution_count": 32,
     "metadata": {},
     "output_type": "execute_result"
    }
   ],
   "source": [
    "comb_df[(comb_df['year'] == 2022)].sort_values(by = 'name', ascending = False).head(1)"
   ]
  },
  {
   "cell_type": "markdown",
   "id": "2a8eed42-f592-40b1-8c40-988f3a9a2883",
   "metadata": {},
   "source": [
    "# 9. Athelte having the that maximum height in all of olympuc history"
   ]
  },
  {
   "cell_type": "code",
   "execution_count": 33,
   "id": "9151b729-5281-44f3-8d37-0946990d0923",
   "metadata": {},
   "outputs": [
    {
     "data": {
      "text/html": [
       "<div>\n",
       "<style scoped>\n",
       "    .dataframe tbody tr th:only-of-type {\n",
       "        vertical-align: middle;\n",
       "    }\n",
       "\n",
       "    .dataframe tbody tr th {\n",
       "        vertical-align: top;\n",
       "    }\n",
       "\n",
       "    .dataframe thead th {\n",
       "        text-align: right;\n",
       "    }\n",
       "</style>\n",
       "<table border=\"1\" class=\"dataframe\">\n",
       "  <thead>\n",
       "    <tr style=\"text-align: right;\">\n",
       "      <th></th>\n",
       "      <th>name</th>\n",
       "      <th>height</th>\n",
       "    </tr>\n",
       "  </thead>\n",
       "  <tbody>\n",
       "    <tr>\n",
       "      <th>93612</th>\n",
       "      <td>Adam Sandurski</td>\n",
       "      <td>214.0</td>\n",
       "    </tr>\n",
       "  </tbody>\n",
       "</table>\n",
       "</div>"
      ],
      "text/plain": [
       "                 name  height\n",
       "93612  Adam Sandurski   214.0"
      ]
     },
     "execution_count": 33,
     "metadata": {},
     "output_type": "execute_result"
    }
   ],
   "source": [
    "\n",
    "comb_df[comb_df['height'] == comb_df['height'].max()][['name','height']].drop_duplicates()"
   ]
  },
  {
   "cell_type": "markdown",
   "id": "e9b4939b-e745-4953-9a5d-76b30b5cd523",
   "metadata": {},
   "source": [
    "# 10. Who was the tallest athlete from the most recent Olympics? How tall were they?"
   ]
  },
  {
   "cell_type": "code",
   "execution_count": 34,
   "id": "fec5d441-1b39-4acc-84d1-28f1b609b940",
   "metadata": {},
   "outputs": [
    {
     "name": "stdout",
     "output_type": "stream",
     "text": [
      "201.0\n"
     ]
    },
    {
     "data": {
      "text/html": [
       "<div>\n",
       "<style scoped>\n",
       "    .dataframe tbody tr th:only-of-type {\n",
       "        vertical-align: middle;\n",
       "    }\n",
       "\n",
       "    .dataframe tbody tr th {\n",
       "        vertical-align: top;\n",
       "    }\n",
       "\n",
       "    .dataframe thead th {\n",
       "        text-align: right;\n",
       "    }\n",
       "</style>\n",
       "<table border=\"1\" class=\"dataframe\">\n",
       "  <thead>\n",
       "    <tr style=\"text-align: right;\">\n",
       "      <th></th>\n",
       "      <th>name</th>\n",
       "      <th>height</th>\n",
       "    </tr>\n",
       "  </thead>\n",
       "  <tbody>\n",
       "    <tr>\n",
       "      <th>2084</th>\n",
       "      <td>Bryce Bennett</td>\n",
       "      <td>201.0</td>\n",
       "    </tr>\n",
       "  </tbody>\n",
       "</table>\n",
       "</div>"
      ],
      "text/plain": [
       "               name  height\n",
       "2084  Bryce Bennett   201.0"
      ]
     },
     "execution_count": 34,
     "metadata": {},
     "output_type": "execute_result"
    }
   ],
   "source": [
    "# Tallest athlete from the most recent Olympics, and their height.\n",
    "\n",
    "recent_olympics = comb_df[comb_df['year'] == 2022]\n",
    "\n",
    "print(recent_olympics['height'].max())\n",
    "\n",
    "recent_olympics[recent_olympics['height'] == recent_olympics['height'].max()][['name','height']].drop_duplicates()"
   ]
  },
  {
   "cell_type": "code",
   "execution_count": 35,
   "id": "1aef70b3-1dbf-40ff-875c-8ad0099219ad",
   "metadata": {},
   "outputs": [
    {
     "data": {
      "text/plain": [
       "2084    Bryce Bennett\n",
       "Name: name, dtype: object"
      ]
     },
     "execution_count": 35,
     "metadata": {},
     "output_type": "execute_result"
    }
   ],
   "source": [
    "comb_df.loc[(comb_df['height']==201) & (comb_df['year'] == 2022) , 'name'].drop_duplicates() "
   ]
  },
  {
   "cell_type": "markdown",
   "id": "923b73c3-3e58-4917-8c95-e64beed3d1f0",
   "metadata": {},
   "source": [
    "# 11. How many gold medals were handed out?"
   ]
  },
  {
   "cell_type": "code",
   "execution_count": 36,
   "id": "b3efa77b-c2d9-4ea5-8669-eab92e8ea86e",
   "metadata": {},
   "outputs": [
    {
     "data": {
      "text/plain": [
       "8246"
      ]
     },
     "execution_count": 36,
     "metadata": {},
     "output_type": "execute_result"
    }
   ],
   "source": [
    "# Total gold medals that were given out in all of olympic history.\n",
    "\n",
    "#1.\n",
    "comb_df[comb_df['medal'] == 'Gold'].shape[0]\n",
    "\n",
    "#2.\n",
    "comb_df[comb_df['medal'] == 'Gold']['medal'].count().item()\n",
    "\n",
    "#3.\n",
    "(comb_df['medal'] == 'Gold').sum().item()\n"
   ]
  },
  {
   "cell_type": "markdown",
   "id": "7686412d-3ed7-4fbe-bf2c-55123ffc4325",
   "metadata": {},
   "source": [
    "# 12. How many total medals were handed out?"
   ]
  },
  {
   "cell_type": "code",
   "execution_count": 37,
   "id": "fc98a9fe-3d54-4620-8ad1-5127d8081e4f",
   "metadata": {},
   "outputs": [
    {
     "name": "stdout",
     "output_type": "stream",
     "text": [
      "Total medals handed out - 25038\n"
     ]
    }
   ],
   "source": [
    "print(f\"Total medals handed out - {comb_df['medal'].count().item()}\")"
   ]
  },
  {
   "cell_type": "markdown",
   "id": "4e3aae68-a5a9-4382-b3d7-ba570e0f8c7e",
   "metadata": {},
   "source": [
    "# 13. How many medals were handed out during the 2018 Olympics?"
   ]
  },
  {
   "cell_type": "code",
   "execution_count": 38,
   "id": "e414eb94-7b06-4482-b947-0f0c99ac7733",
   "metadata": {},
   "outputs": [
    {
     "name": "stdout",
     "output_type": "stream",
     "text": [
      "Total medals handed out in 2018 Olympics : 383\n"
     ]
    }
   ],
   "source": [
    "# Total medals that were handed out in 2018 Olympics\n",
    "\n",
    "ans13 = (comb_df[comb_df['year'] == 2018]['medal']).count().item()\n",
    "\n",
    "print(f\"Total medals handed out in 2018 Olympics : {ans13}\")"
   ]
  },
  {
   "cell_type": "markdown",
   "id": "aa63ba63-d9f7-45f2-a1de-793974650d4e",
   "metadata": {},
   "source": [
    "# 14. How many medals were won by individuals with a height between 170 and 180 cm?"
   ]
  },
  {
   "cell_type": "code",
   "execution_count": 39,
   "id": "18c72d11-4d14-44c6-b15d-d1754a817ecf",
   "metadata": {},
   "outputs": [
    {
     "name": "stdout",
     "output_type": "stream",
     "text": [
      "Total medals won by individuals with height between 170 -180 : 5924\n"
     ]
    }
   ],
   "source": [
    "# Medals Won by Individuals with a height between 170 and 180 cm.\n",
    "ans14 = (comb_df[(comb_df['height'] > 170) & (comb_df['height'] < 180)]['medal']).count().item()\n",
    "\n",
    "print(f\"Total medals won by individuals with height between 170 -180 : {ans14}\")"
   ]
  },
  {
   "cell_type": "markdown",
   "id": "cd8b6b56-748d-4640-b248-8101e2c03e95",
   "metadata": {},
   "source": [
    "# 15. How many gold medals were won by individuals shorter than 160cm or taller than 190?"
   ]
  },
  {
   "cell_type": "code",
   "execution_count": 40,
   "id": "10e6548b-2afd-4b13-aaa4-20fa1c160241",
   "metadata": {},
   "outputs": [
    {
     "name": "stdout",
     "output_type": "stream",
     "text": [
      "815\n"
     ]
    }
   ],
   "source": [
    "# Gold medals handed out to individuals with height less than 160 cm or tall0er than 190 cm.\n",
    "\n",
    "#15.1\n",
    "comb_df[\n",
    "        ((comb_df['medal'] == 'Gold') & (comb_df['height'] < 160)) | \n",
    "        ((comb_df['medal'] == 'Gold') & (comb_df['height'] > 190))\n",
    "        ]['medal'].count()\n",
    "\n",
    "\n",
    "#15.2\n",
    "gold_medals_count = comb_df[\n",
    "    ((comb_df['medal'] == 'Gold') & (comb_df['height'] < 160)) |\n",
    "    ((comb_df['medal'] == 'Gold') & (comb_df['height'] > 190))\n",
    "].shape[0]\n",
    "\n",
    "# Display the count\n",
    "print(gold_medals_count)\n"
   ]
  },
  {
   "cell_type": "markdown",
   "id": "e645a583-e79c-4557-9b89-b78e8136b986",
   "metadata": {},
   "source": [
    "# 16. How many different Olympic games are in this file?"
   ]
  },
  {
   "cell_type": "code",
   "execution_count": 41,
   "id": "2836a439-2e21-4e9a-abc1-79cea4a0e0cf",
   "metadata": {},
   "outputs": [
    {
     "data": {
      "text/plain": [
       "53"
      ]
     },
     "execution_count": 41,
     "metadata": {},
     "output_type": "execute_result"
    }
   ],
   "source": [
    "# Count of different Olympic  games altogether\n",
    "\n",
    "len(comb_df['games'].unique())    # Counts the length of an array\n",
    "\n",
    "comb_df['games'].nunique()          "
   ]
  },
  {
   "cell_type": "markdown",
   "id": "7bdce191-4767-4fe4-834d-d554a3307177",
   "metadata": {},
   "source": [
    "# 17. Which Olympic games had the most participation?"
   ]
  },
  {
   "cell_type": "code",
   "execution_count": 42,
   "id": "f32ad285-b003-4c4c-ae6b-f8c6042084f0",
   "metadata": {},
   "outputs": [
    {
     "name": "stdout",
     "output_type": "stream",
     "text": [
      "games\n",
      "2016 Summer Olympics    7355\n",
      "Name: athlete_id, dtype: int64\n"
     ]
    }
   ],
   "source": [
    "# Olympic games with the most participation\n",
    "\n",
    " \n",
    "total_participation = (comb_df.groupby('games')['athlete_id'].nunique())\n",
    "\n",
    "max_participation = total_participation.max().item()\n",
    "\n",
    "most_participated_games = total_participation[total_participation == max_participation]\n",
    "\n",
    "print(most_participated_games)"
   ]
  },
  {
   "cell_type": "markdown",
   "id": "556d97ac-018c-436d-9534-6a8921c5cec2",
   "metadata": {},
   "source": [
    "# 18. How many women were in the first Olympic games?"
   ]
  },
  {
   "cell_type": "code",
   "execution_count": 43,
   "id": "38e80b4f-b9fa-4f01-b94a-18ad9e92689a",
   "metadata": {},
   "outputs": [
    {
     "data": {
      "text/plain": [
       "2"
      ]
     },
     "execution_count": 43,
     "metadata": {},
     "output_type": "execute_result"
    }
   ],
   "source": [
    "comb_df[(comb_df['year'] == 1896) & (comb_df['sex'] == 'F')].shape[0]"
   ]
  },
  {
   "cell_type": "markdown",
   "id": "1aae1c6f-7a1b-46d6-96d6-7ef3b1ea8bdf",
   "metadata": {},
   "source": [
    "# 19. Which Olympic games had the most women participants?"
   ]
  },
  {
   "cell_type": "code",
   "execution_count": 44,
   "id": "10e2c5ac-1b88-4658-8e43-a5494c19d0ec",
   "metadata": {},
   "outputs": [
    {
     "data": {
      "text/plain": [
       "7355"
      ]
     },
     "execution_count": 44,
     "metadata": {},
     "output_type": "execute_result"
    }
   ],
   "source": [
    "# Olympic games with the most Women participants.\n",
    "\n",
    "female_participation = comb_df[comb_df['sex'] == 'F']\n",
    "\n",
    "women_per_game = female_participation.groupby('games')['athlete_id'].nunique()\n",
    "\n",
    "max_women_count = women_per_game.max()\n",
    "\n",
    "max_particpation = women_per_game[women_per_game == max_women_count]\n",
    "\n",
    "max_participation"
   ]
  },
  {
   "cell_type": "markdown",
   "id": "98c775f8-8dae-4b9e-a413-92b8b9c45f70",
   "metadata": {},
   "source": [
    "# 20. How many sports were in the first Olympics? How many in the latest?"
   ]
  },
  {
   "cell_type": "code",
   "execution_count": 45,
   "id": "c37b2e0d-915f-4e9e-96f9-1fbb61734e72",
   "metadata": {},
   "outputs": [
    {
     "name": "stdout",
     "output_type": "stream",
     "text": [
      "First Olpympics : 10 , Last Olympics:13\n"
     ]
    }
   ],
   "source": [
    "# No of Sports in the first Olympics and the no of Sports in the Latest.\n",
    "\n",
    "No_of_sports_in_first_Olympics = comb_df[(comb_df['year'] == 1896) & (comb_df['season'] == 'Summer')]['sport'].nunique()\n",
    "\n",
    "No_of_sports_in_last_Olympics = comb_df[(comb_df['year'] == 2022) & (comb_df['season'] == 'Winter')]['sport'].nunique()\n",
    "\n",
    "print(f'First Olpympics : {No_of_sports_in_first_Olympics} , Last Olympics:{No_of_sports_in_last_Olympics}')"
   ]
  },
  {
   "cell_type": "markdown",
   "id": "566c8f1a-dc35-4f21-8d44-9b5d62469acf",
   "metadata": {},
   "source": [
    "# 21. Which Olympics had the most different sports?"
   ]
  },
  {
   "cell_type": "code",
   "execution_count": 46,
   "id": "3b9c5adc-b4e7-465b-90fb-8e0410ded114",
   "metadata": {},
   "outputs": [
    {
     "data": {
      "text/plain": [
       "games\n",
       "2020 Summer Olympics    38\n",
       "Name: sport, dtype: int64"
      ]
     },
     "execution_count": 46,
     "metadata": {},
     "output_type": "execute_result"
    }
   ],
   "source": [
    "# Olympics with the most unique sports\n",
    "\n",
    "max_sports = comb_df.groupby('games')['sport'].nunique().max()\n",
    "most_unique_sports_games = comb_df.groupby('games')['sport'].nunique()\n",
    "\n",
    "most_unique_sports_games[most_unique_sports_games == max_sports]"
   ]
  },
  {
   "cell_type": "markdown",
   "id": "53e0a4be-854c-441d-90f7-3471f4f907f7",
   "metadata": {},
   "source": [
    "# 22. Which country has had the most participation in the Olympics? "
   ]
  },
  {
   "cell_type": "code",
   "execution_count": 47,
   "id": "d50ccca0-01a5-4e1b-9920-6b8be5c84102",
   "metadata": {},
   "outputs": [
    {
     "data": {
      "text/plain": [
       "noc\n",
       "United States    7240\n",
       "Name: athlete_id, dtype: int64"
      ]
     },
     "execution_count": 47,
     "metadata": {},
     "output_type": "execute_result"
    }
   ],
   "source": [
    "participation_count = comb_df.groupby(\"noc\")['athlete_id'].nunique()\n",
    "\n",
    "country_participation_max = participation_count.max()\n",
    "\n",
    "country_with_max_participation = participation_count[participation_count == country_participation_max]\n",
    "\n",
    "country_with_max_participation"
   ]
  },
  {
   "cell_type": "markdown",
   "id": "5ffd4210-d966-49c5-8d52-465e7870167b",
   "metadata": {},
   "source": [
    "# 23. How many countries participated in the first Olympics? How many in the last? "
   ]
  },
  {
   "cell_type": "code",
   "execution_count": 48,
   "id": "d4b2bbca-fa94-4ca1-9cf8-8e75859ed2ba",
   "metadata": {},
   "outputs": [
    {
     "name": "stdout",
     "output_type": "stream",
     "text": [
      "No of Countries that participated in\n",
      "-First Olympics : 14\n",
      "-Last Olympics : 90\n"
     ]
    }
   ],
   "source": [
    "#comb_df.sort_values(by = 'year', ascending = False)[['year','season']]\n",
    "\n",
    "#comb_df.groupby('year').count().sort_values(by = 'year',ascending = False)['noc']\n",
    "\n",
    "first_olympics = comb_df[comb_df['year'] == 1896]['noc'].nunique()\n",
    "\n",
    "last_olympics = comb_df[comb_df['year'] == 2022]['noc'].nunique()\n",
    "\n",
    "print(f'''No of Countries that participated in\n",
    "-First Olympics : {first_olympics}\n",
    "-Last Olympics : {last_olympics}''')"
   ]
  },
  {
   "cell_type": "markdown",
   "id": "b63ecb55-5c7e-4704-92f3-11621d9788c3",
   "metadata": {},
   "source": [
    "# 24. How tall was the tallest athlete in basketball? And what about karate?"
   ]
  },
  {
   "cell_type": "code",
   "execution_count": 49,
   "id": "31d70e5b-1119-4305-b7bb-09f65a027e79",
   "metadata": {},
   "outputs": [
    {
     "name": "stdout",
     "output_type": "stream",
     "text": [
      "\n",
      "----------------------------------------------------------------------\n",
      "Name and Height of Tallest athlete in Basketball\n",
      "\n",
      "              name  height\n",
      "Aristidis Roubanis   192.0\n",
      "\n",
      "-----------------------------------------------------------------------\n",
      "Tallest Athlete in \n",
      "\n",
      "- Basketball : 192.0\n",
      "- Karate : 163.0\n",
      "\n",
      "-----------------------------------------------------------------------\n"
     ]
    }
   ],
   "source": [
    "Basketball_Tallest = comb_df[comb_df['sport'] == \"Basketball\"]['height'].max()\n",
    "\n",
    "\n",
    "tallest_basketball_players = comb_df[(comb_df['sport'] == \"Basketball\") & (comb_df['height'] == Basketball_Tallest)]\n",
    "\n",
    "\n",
    "print(f'''\n",
    "----------------------------------------------------------------------\n",
    "Name and Height of Tallest athlete in Basketball\n",
    "\n",
    "{tallest_basketball_players[['name','height']].to_string(index=False)}''')\n",
    "\n",
    "Karate_Tallest = comb_df[comb_df['sport'] == \"Karate\"]['height'].max()\n",
    "print(f'''\n",
    "-----------------------------------------------------------------------\n",
    "Tallest Athlete in \n",
    "\n",
    "- Basketball : {Basketball_Tallest}\n",
    "- Karate : {Karate_Tallest}\n",
    "\n",
    "-----------------------------------------------------------------------''')"
   ]
  },
  {
   "cell_type": "markdown",
   "id": "108481ea-5b28-48ec-8896-e70d86e17607",
   "metadata": {},
   "source": [
    "# 25. What is the average height of women participating in archery? "
   ]
  },
  {
   "cell_type": "code",
   "execution_count": 50,
   "id": "944b53c6-dd98-461c-a20f-60b6a7400f7a",
   "metadata": {},
   "outputs": [
    {
     "name": "stdout",
     "output_type": "stream",
     "text": [
      "The average height of Women partcipating in archery is \n",
      "167.2567703109328\n"
     ]
    }
   ],
   "source": [
    "female_archers = comb_df[(comb_df['sport'] == \"Archery\") & (comb_df['sex'] == 'F')]\n",
    "\n",
    "\n",
    "average_height_female_archers = female_archers['height'].mean().item()\n",
    "\n",
    "print(f'''The average height of Women partcipating in archery is \n",
    "{average_height_female_archers}''')"
   ]
  },
  {
   "cell_type": "markdown",
   "id": "c38116b8-3fa9-4a8e-9d14-074eece44292",
   "metadata": {},
   "source": [
    "# 26. What is the average height of men participating in ballooning?"
   ]
  },
  {
   "cell_type": "code",
   "execution_count": 51,
   "id": "849f1300-21f9-4134-ada7-73a52c25b1b2",
   "metadata": {},
   "outputs": [
    {
     "name": "stdout",
     "output_type": "stream",
     "text": [
      "The average height of Men partcipating in Ballooning is \n",
      "170.0\n"
     ]
    }
   ],
   "source": [
    "men_ballooning = comb_df[(comb_df['sport'] == \"Ballooning\") & (comb_df['sex'] == 'M')]\n",
    "\n",
    "avg_height_men_ballooning = men_ballooning['height'].mean().item()\n",
    "\n",
    "print(f'''The average height of Men partcipating in Ballooning is \n",
    "{avg_height_men_ballooning}''')"
   ]
  },
  {
   "cell_type": "markdown",
   "id": "80084a77-27f7-4886-b2b0-e1c7d78681c5",
   "metadata": {},
   "source": [
    "# 27. Can you find a sport where women were taller than men?"
   ]
  },
  {
   "cell_type": "code",
   "execution_count": 52,
   "id": "ba763ab8-5d28-4e13-b1c9-acb815689bf6",
   "metadata": {},
   "outputs": [
    {
     "data": {
      "text/html": [
       "<div>\n",
       "<style scoped>\n",
       "    .dataframe tbody tr th:only-of-type {\n",
       "        vertical-align: middle;\n",
       "    }\n",
       "\n",
       "    .dataframe tbody tr th {\n",
       "        vertical-align: top;\n",
       "    }\n",
       "\n",
       "    .dataframe thead th {\n",
       "        text-align: right;\n",
       "    }\n",
       "</style>\n",
       "<table border=\"1\" class=\"dataframe\">\n",
       "  <thead>\n",
       "    <tr style=\"text-align: right;\">\n",
       "      <th>sex</th>\n",
       "      <th>F</th>\n",
       "      <th>M</th>\n",
       "    </tr>\n",
       "    <tr>\n",
       "      <th>sport</th>\n",
       "      <th></th>\n",
       "      <th></th>\n",
       "    </tr>\n",
       "  </thead>\n",
       "  <tbody>\n",
       "    <tr>\n",
       "      <th>Basketball</th>\n",
       "      <td>188.0</td>\n",
       "      <td>181.833333</td>\n",
       "    </tr>\n",
       "  </tbody>\n",
       "</table>\n",
       "</div>"
      ],
      "text/plain": [
       "sex             F           M\n",
       "sport                        \n",
       "Basketball  188.0  181.833333"
      ]
     },
     "execution_count": 52,
     "metadata": {},
     "output_type": "execute_result"
    }
   ],
   "source": [
    "avg_height = comb_df.groupby(['sport','sex'])['height'].mean().unstack()   #unstack() → Converts the result into a wider format where 'M' and 'F' become separate columns.\n",
    "\n",
    "avg_height[avg_height['F'] > avg_height['M']]"
   ]
  },
  {
   "cell_type": "markdown",
   "id": "c2dd6ccd-f61d-41dc-a74f-ab7a7c3c63b5",
   "metadata": {},
   "source": [
    "# 28. How tall is the shortest woman Badminton player to win a gold medal?"
   ]
  },
  {
   "cell_type": "code",
   "execution_count": 53,
   "id": "baaa6e5a-2b91-479c-bd29-4870f89746c2",
   "metadata": {},
   "outputs": [
    {
     "data": {
      "text/html": [
       "<div>\n",
       "<style scoped>\n",
       "    .dataframe tbody tr th:only-of-type {\n",
       "        vertical-align: middle;\n",
       "    }\n",
       "\n",
       "    .dataframe tbody tr th {\n",
       "        vertical-align: top;\n",
       "    }\n",
       "\n",
       "    .dataframe thead th {\n",
       "        text-align: right;\n",
       "    }\n",
       "</style>\n",
       "<table border=\"1\" class=\"dataframe\">\n",
       "  <thead>\n",
       "    <tr style=\"text-align: right;\">\n",
       "      <th></th>\n",
       "      <th>name</th>\n",
       "      <th>height</th>\n",
       "    </tr>\n",
       "  </thead>\n",
       "  <tbody>\n",
       "    <tr>\n",
       "      <th>633</th>\n",
       "      <td>Susy Susanti</td>\n",
       "      <td>161.0</td>\n",
       "    </tr>\n",
       "  </tbody>\n",
       "</table>\n",
       "</div>"
      ],
      "text/plain": [
       "             name  height\n",
       "633  Susy Susanti   161.0"
      ]
     },
     "execution_count": 53,
     "metadata": {},
     "output_type": "execute_result"
    }
   ],
   "source": [
    "Women_Badminton_Gold_Medallist = comb_df[(comb_df['sport'] == \"Badminton\") & (comb_df['medal'] == \"Gold\") & (comb_df['sex'] == 'F')]\n",
    "\n",
    "Height_of_shortest_women_badminton_gold_medallist = Women_Badminton_Gold_Medallist['height'].min()\n",
    "\n",
    "Women_Badminton_Gold_Medallist[Women_Badminton_Gold_Medallist['height'] == Height_of_shortest_women_badminton_gold_medallist][['name','height']]\n"
   ]
  },
  {
   "cell_type": "markdown",
   "id": "e7313853-95bc-446b-9515-e39d7f13f6e3",
   "metadata": {},
   "source": [
    "# 29. What is the average height and standard deviation of athletes from Denmark (DEN) in the 1964 Olympics?"
   ]
  },
  {
   "cell_type": "code",
   "execution_count": 54,
   "id": "72d03e81-f1bd-4094-9674-153f64890d33",
   "metadata": {},
   "outputs": [
    {
     "name": "stdout",
     "output_type": "stream",
     "text": [
      "\n",
      "Average Height 175.91304347826087\n",
      "\n",
      "Standard Deviation 7.111262075692243\n"
     ]
    }
   ],
   "source": [
    "den_1964 = comb_df[(comb_df['noc'] == 'DEN') & (comb_df['year'] == 1964)]\n",
    "\n",
    "avg_height_den_1964 = den_1964['height'].mean().item()\n",
    "\n",
    "std_dev_height_den_1964 = den_1964['height'].std().item()\n",
    "\n",
    "print(f'''\n",
    "Average Height {avg_height_den_1964}\n",
    "\n",
    "Standard Deviation {std_dev_height_den_1964}''')"
   ]
  },
  {
   "cell_type": "markdown",
   "id": "0b36a692-8931-4b19-ad81-87ec22325513",
   "metadata": {},
   "source": [
    "# 30. Can you determine how heavy the heaviest tennis player in the 2020 Olympics is?"
   ]
  },
  {
   "cell_type": "code",
   "execution_count": 55,
   "id": "6e05d04a-713e-4f14-8e0e-3ae5ea3915e0",
   "metadata": {},
   "outputs": [
    {
     "name": "stdout",
     "output_type": "stream",
     "text": [
      "The maximum weight of a Tennis player in 2020 was 90.0 kg\n"
     ]
    }
   ],
   "source": [
    "comb_df['weight'] = pd.to_numeric(comb_df['weight'], errors='coerce')\n",
    "\n",
    "Tennis_2020 = comb_df[(comb_df['year'] == 2020) & (comb_df['sport'] == \"Tennis\")]\n",
    "\n",
    "max_weight = Tennis_2020['weight'].max()\n",
    "\n",
    "print(f\"The maximum weight of a Tennis player in 2020 was {max_weight} kg\")"
   ]
  },
  {
   "cell_type": "markdown",
   "id": "ecd306c8-4408-4e89-a714-f9dee8e8ea52",
   "metadata": {},
   "source": [
    "# 31. How old was Arnaud Boetsch during his Olympic tennis participation?"
   ]
  },
  {
   "cell_type": "code",
   "execution_count": 56,
   "id": "dbab9ef5-67da-41e0-a07e-fb13dfe4951f",
   "metadata": {},
   "outputs": [
    {
     "name": "stdout",
     "output_type": "stream",
     "text": [
      "Age of Arnaud Boetsch during Olympic Participation was 27.0 years\n"
     ]
    }
   ],
   "source": [
    "olympic_year = comb_df[comb_df['name'] == \"Arnaud Boetsch\"]['year']\n",
    "\n",
    "\n",
    "birth_year_arnaud = comb_df[comb_df['name'] == \"Arnaud Boetsch\"]['birth_year']\n",
    "\n",
    "age = (olympic_year - birth_year_arnaud).unique()[0].item()\n",
    "\n",
    "print(f'''Age of Arnaud Boetsch during Olympic Participation was {age} years''')"
   ]
  },
  {
   "cell_type": "markdown",
   "id": "c9c1998b-6ae6-42f9-9d3e-cedb8b42e3bb",
   "metadata": {},
   "source": [
    "# 32. What is the BMI for Arnaud Boetsch? (BMI=weight/(height)*(height))"
   ]
  },
  {
   "cell_type": "code",
   "execution_count": 57,
   "id": "847f3ace-3b9e-4955-9c80-0bb4608ffaa2",
   "metadata": {},
   "outputs": [
    {
     "data": {
      "text/plain": [
       "22.694018931589476"
      ]
     },
     "execution_count": 57,
     "metadata": {},
     "output_type": "execute_result"
    }
   ],
   "source": [
    "weight_arnaud = comb_df[comb_df['name'] == \"Arnaud Boetsch\"]['weight'].unique()[0]\n",
    "\n",
    "height_arnaud = comb_df[comb_df['name'] == \"Arnaud Boetsch\"]['height'].unique()[0] / 100\n",
    "\n",
    "BMI_arnaud = (weight_arnaud / (height_arnaud*height_arnaud)).item()\n",
    "\n",
    "BMI_arnaud"
   ]
  },
  {
   "cell_type": "markdown",
   "id": "5bc91442-0c45-4095-ba97-59d757de1c76",
   "metadata": {},
   "source": [
    "# 33. This file uses a mix of Athina and Athens to indicate the Capital City of Greece in the city column. Standardize this by replacing occurrences of Athina with Athens. "
   ]
  },
  {
   "cell_type": "code",
   "execution_count": 58,
   "id": "0d40f133-dea3-4cb1-b8dd-0fbd9399e1de",
   "metadata": {},
   "outputs": [],
   "source": [
    "comb_df['city'] = comb_df['city'].replace(\"Athina\", \"Athens\")"
   ]
  },
  {
   "cell_type": "markdown",
   "id": "0bc529c5-d372-48e4-9314-e8664fc85ad2",
   "metadata": {},
   "source": [
    "# 34. You may have noticed that this file has a lot of missing data. How many have 2 or more missing values?"
   ]
  },
  {
   "cell_type": "code",
   "execution_count": 59,
   "id": "008afc3e-e943-4626-b24b-53f0b3ab0bab",
   "metadata": {},
   "outputs": [
    {
     "name": "stdout",
     "output_type": "stream",
     "text": [
      "63458\n"
     ]
    }
   ],
   "source": [
    "missing_values_count = (comb_df.isnull().sum(axis=1) >= 2).sum()\n",
    "print(missing_values_count)"
   ]
  },
  {
   "cell_type": "markdown",
   "id": "11f583d9-a8f1-4c06-8e2b-c65d76422b45",
   "metadata": {},
   "source": [
    "# 35. Create a new DataFrame with 5 columns: id, name, sport, games, and medal."
   ]
  },
  {
   "cell_type": "code",
   "execution_count": 60,
   "id": "46baaa8e-6ca2-4e49-8775-d836e25d8392",
   "metadata": {},
   "outputs": [],
   "source": [
    "new_df = comb_df[['athlete_id','name','sport','games','medal']]"
   ]
  },
  {
   "cell_type": "code",
   "execution_count": 61,
   "id": "8aa88111-ef75-4167-9562-a77720f34ab6",
   "metadata": {},
   "outputs": [
    {
     "data": {
      "text/html": [
       "<div>\n",
       "<style scoped>\n",
       "    .dataframe tbody tr th:only-of-type {\n",
       "        vertical-align: middle;\n",
       "    }\n",
       "\n",
       "    .dataframe tbody tr th {\n",
       "        vertical-align: top;\n",
       "    }\n",
       "\n",
       "    .dataframe thead th {\n",
       "        text-align: right;\n",
       "    }\n",
       "</style>\n",
       "<table border=\"1\" class=\"dataframe\">\n",
       "  <thead>\n",
       "    <tr style=\"text-align: right;\">\n",
       "      <th></th>\n",
       "      <th>athlete_id</th>\n",
       "      <th>name</th>\n",
       "      <th>sport</th>\n",
       "      <th>games</th>\n",
       "      <th>medal</th>\n",
       "    </tr>\n",
       "  </thead>\n",
       "  <tbody>\n",
       "    <tr>\n",
       "      <th>0</th>\n",
       "      <td>1</td>\n",
       "      <td>Jean-François Blanchy</td>\n",
       "      <td>Tennis</td>\n",
       "      <td>1912 Summer Olympics</td>\n",
       "      <td>NaN</td>\n",
       "    </tr>\n",
       "    <tr>\n",
       "      <th>1</th>\n",
       "      <td>1</td>\n",
       "      <td>Jean-François Blanchy</td>\n",
       "      <td>Tennis</td>\n",
       "      <td>1912 Summer Olympics</td>\n",
       "      <td>NaN</td>\n",
       "    </tr>\n",
       "    <tr>\n",
       "      <th>2</th>\n",
       "      <td>1</td>\n",
       "      <td>Jean-François Blanchy</td>\n",
       "      <td>Tennis</td>\n",
       "      <td>1920 Summer Olympics</td>\n",
       "      <td>NaN</td>\n",
       "    </tr>\n",
       "    <tr>\n",
       "      <th>3</th>\n",
       "      <td>1</td>\n",
       "      <td>Jean-François Blanchy</td>\n",
       "      <td>Tennis</td>\n",
       "      <td>1920 Summer Olympics</td>\n",
       "      <td>NaN</td>\n",
       "    </tr>\n",
       "    <tr>\n",
       "      <th>4</th>\n",
       "      <td>1</td>\n",
       "      <td>Jean-François Blanchy</td>\n",
       "      <td>Tennis</td>\n",
       "      <td>1920 Summer Olympics</td>\n",
       "      <td>NaN</td>\n",
       "    </tr>\n",
       "    <tr>\n",
       "      <th>...</th>\n",
       "      <td>...</td>\n",
       "      <td>...</td>\n",
       "      <td>...</td>\n",
       "      <td>...</td>\n",
       "      <td>...</td>\n",
       "    </tr>\n",
       "    <tr>\n",
       "      <th>4070</th>\n",
       "      <td>2302054</td>\n",
       "      <td>Ashley Farquharson</td>\n",
       "      <td>Luge</td>\n",
       "      <td>2022 Winter Olympics</td>\n",
       "      <td>NaN</td>\n",
       "    </tr>\n",
       "    <tr>\n",
       "      <th>4071</th>\n",
       "      <td>2302065</td>\n",
       "      <td>Jake Vedder</td>\n",
       "      <td>Snowboarding</td>\n",
       "      <td>2022 Winter Olympics</td>\n",
       "      <td>NaN</td>\n",
       "    </tr>\n",
       "    <tr>\n",
       "      <th>4072</th>\n",
       "      <td>2302065</td>\n",
       "      <td>Jake Vedder</td>\n",
       "      <td>Snowboarding</td>\n",
       "      <td>2022 Winter Olympics</td>\n",
       "      <td>NaN</td>\n",
       "    </tr>\n",
       "    <tr>\n",
       "      <th>4073</th>\n",
       "      <td>2302066</td>\n",
       "      <td>Austin Kleba</td>\n",
       "      <td>Speed Skating</td>\n",
       "      <td>2022 Winter Olympics</td>\n",
       "      <td>NaN</td>\n",
       "    </tr>\n",
       "    <tr>\n",
       "      <th>4074</th>\n",
       "      <td>2302066</td>\n",
       "      <td>Austin Kleba</td>\n",
       "      <td>Speed Skating</td>\n",
       "      <td>2022 Winter Olympics</td>\n",
       "      <td>NaN</td>\n",
       "    </tr>\n",
       "  </tbody>\n",
       "</table>\n",
       "<p>236912 rows × 5 columns</p>\n",
       "</div>"
      ],
      "text/plain": [
       "      athlete_id                   name          sport                 games  \\\n",
       "0              1  Jean-François Blanchy         Tennis  1912 Summer Olympics   \n",
       "1              1  Jean-François Blanchy         Tennis  1912 Summer Olympics   \n",
       "2              1  Jean-François Blanchy         Tennis  1920 Summer Olympics   \n",
       "3              1  Jean-François Blanchy         Tennis  1920 Summer Olympics   \n",
       "4              1  Jean-François Blanchy         Tennis  1920 Summer Olympics   \n",
       "...          ...                    ...            ...                   ...   \n",
       "4070     2302054     Ashley Farquharson           Luge  2022 Winter Olympics   \n",
       "4071     2302065            Jake Vedder   Snowboarding  2022 Winter Olympics   \n",
       "4072     2302065            Jake Vedder   Snowboarding  2022 Winter Olympics   \n",
       "4073     2302066           Austin Kleba  Speed Skating  2022 Winter Olympics   \n",
       "4074     2302066           Austin Kleba  Speed Skating  2022 Winter Olympics   \n",
       "\n",
       "     medal  \n",
       "0      NaN  \n",
       "1      NaN  \n",
       "2      NaN  \n",
       "3      NaN  \n",
       "4      NaN  \n",
       "...    ...  \n",
       "4070   NaN  \n",
       "4071   NaN  \n",
       "4072   NaN  \n",
       "4073   NaN  \n",
       "4074   NaN  \n",
       "\n",
       "[236912 rows x 5 columns]"
      ]
     },
     "execution_count": 61,
     "metadata": {},
     "output_type": "execute_result"
    }
   ],
   "source": [
    "new_df"
   ]
  },
  {
   "cell_type": "markdown",
   "id": "f9d4c617-cc37-421f-98fa-1aaa71e8af82",
   "metadata": {},
   "source": [
    "# 36. How many unique athletes do we have? Create a list of all unique athletes (id and name)"
   ]
  },
  {
   "cell_type": "code",
   "execution_count": 62,
   "id": "1715a971-100c-4d4d-97f6-0eb17f9434a8",
   "metadata": {},
   "outputs": [
    {
     "name": "stdout",
     "output_type": "stream",
     "text": [
      "Total No of Unique athletes are: \n",
      "95618\n",
      "\n",
      "------------------------------------------------------------------\n",
      "\n",
      "Athletes with their id and names:\n",
      "\n",
      "      athlete_id                   name\n",
      "0              1  Jean-François Blanchy\n",
      "5              2         Arnaud Boetsch\n",
      "7              3           Jean Borotra\n",
      "10             4        Jacques Brugnon\n",
      "13             5           Albert Canet\n",
      "...          ...                    ...\n",
      "4067     2302019       Hannah Halvorsen\n",
      "4068     2302026            Birk Irving\n",
      "4069     2302054     Ashley Farquharson\n",
      "4071     2302065            Jake Vedder\n",
      "4073     2302066           Austin Kleba\n",
      "\n",
      "[95618 rows x 2 columns]\n"
     ]
    }
   ],
   "source": [
    "unique_athletes = comb_df[['athlete_id', 'name']].drop_duplicates()\n",
    "\n",
    "# Count the number of unique athletes\n",
    "num_unique_athletes = unique_athletes.shape[0]\n",
    "\n",
    "# Display result\n",
    "print(f'''Total No of Unique athletes are: \n",
    "{num_unique_athletes}\n",
    "\n",
    "------------------------------------------------------------------''')\n",
    "\n",
    "print(f'''\n",
    "Athletes with their id and names:\n",
    "\n",
    "{unique_athletes}''')\n",
    "\n"
   ]
  },
  {
   "cell_type": "markdown",
   "id": "71b844de-3712-4d3a-96a2-00da0aca33c8",
   "metadata": {},
   "source": [
    "# 37. Count athletes, and medals per continent."
   ]
  },
  {
   "cell_type": "code",
   "execution_count": 63,
   "id": "37b97950-20be-4466-b692-ae250962c726",
   "metadata": {},
   "outputs": [
    {
     "name": "stdout",
     "output_type": "stream",
     "text": [
      "  Continent  num_athletes  num_medals\n",
      "0        AF          5976         483\n",
      "1        AS         14418        2762\n",
      "2        EU         46771       12811\n",
      "3        OC          3598         854\n",
      "4        SA          4442         274\n",
      "5       NaN         21060        7854\n"
     ]
    }
   ],
   "source": [
    "# Creating a mapping dictionary from df2 (NOC -> continent)\n",
    "noc_to_continent = dict(zip(df2[\"NOC\"], df2[\"Continent\"]))\n",
    "\n",
    "# Mapping the continent values to comb_df based on NOC\n",
    "comb_df[\"Continent\"] = comb_df[\"noc\"].map(noc_to_continent)\n",
    "\n",
    "athletes_per_continent = comb_df.groupby('Continent',dropna= False)['athlete_id'].nunique().reset_index()\n",
    "athletes_per_continent.columns = ['Continent', 'num_athletes']\n",
    "\n",
    "\n",
    "medals_per_continent = comb_df[comb_df['medal'].notna()].groupby('Continent',dropna=False)['medal'].count().reset_index()\n",
    "medals_per_continent.columns = ['Continent', 'num_medals']\n",
    "\n",
    "\n",
    "result = athletes_per_continent.merge(medals_per_continent, on='Continent', how='left')\n",
    "print(result)\n"
   ]
  },
  {
   "cell_type": "markdown",
   "id": "af626739-abf5-41b8-9819-e0906b9ea3b1",
   "metadata": {},
   "source": [
    "# 38. Plot a line chart that shows the number of gold medals won by the United States between 2000 and 2020."
   ]
  },
  {
   "cell_type": "code",
   "execution_count": 64,
   "id": "7a1deb1d-051c-4d36-85ad-a3664cf7bdbb",
   "metadata": {},
   "outputs": [
    {
     "data": {
      "image/png": "[encoded data removed]",
      "text/plain": [
       "<Figure size 1000x500 with 1 Axes>"
      ]
     },
     "metadata": {},
     "output_type": "display_data"
    }
   ],
   "source": [
    "# Filter for the United States, Gold medals, and years between 2000 and 2020\n",
    "usa_gold = comb_df[(comb_df['noc'] == 'United States') & \n",
    "                   (comb_df['medal'] == 'Gold') & \n",
    "                   (comb_df['year'].between(2000, 2020))]\n",
    "\n",
    "# Count gold medals per year separately for Summer and Winter Olympics\n",
    "gold_medals_per_year = usa_gold.groupby(['year', 'season'])['medal'].count().unstack()\n",
    "\n",
    "# Plot\n",
    "plt.figure(figsize=(10, 5))\n",
    "plt.plot(gold_medals_per_year.index, gold_medals_per_year['Summer'], marker='o', linestyle='-', color='gold', label='Summer Olympics')\n",
    "plt.plot(gold_medals_per_year.index, gold_medals_per_year['Winter'], marker='s', linestyle='-', color='blue', label='Winter Olympics')\n",
    "\n",
    "# Labels and title\n",
    "plt.xlabel(\"Year\")\n",
    "plt.ylabel(\"Number of Gold Medals\")\n",
    "plt.title(\"Gold Medals Won by USA in Summer & Winter Olympics (2000-2020)\")\n",
    "plt.legend()\n",
    "plt.grid(True)\n",
    "plt.xticks(gold_medals_per_year.index)  # Ensure all years are displayed\n",
    "\n",
    "# Show plot\n",
    "plt.show()\n"
   ]
  },
  {
   "cell_type": "markdown",
   "id": "1504af77-e158-4aac-ace6-b87de541848e",
   "metadata": {},
   "source": [
    "# 39. Plot a grouped bar chart that shows the total number of medals won by Norway, the United States, and Canada during 2010, 2014, and 2018 winter Olympics."
   ]
  },
  {
   "cell_type": "code",
   "execution_count": 65,
   "id": "d45dc39e-83f6-4bdf-9312-c6d407d01441",
   "metadata": {},
   "outputs": [
    {
     "data": {
      "image/png": "[encoded data removed]",
      "text/plain": [
       "<Figure size 1000x600 with 1 Axes>"
      ]
     },
     "metadata": {},
     "output_type": "display_data"
    }
   ],
   "source": [
    "import pandas as pd\n",
    "import matplotlib.pyplot as plt\n",
    "import numpy as np\n",
    "\n",
    "# Filter data for Norway, USA, and Canada in Winter Olympics for 2010, 2014, 2018\n",
    "countries = ['NOR', 'United States', 'CAN']\n",
    "years = [2010, 2014, 2018]\n",
    "\n",
    "filtered_df = comb_df[(comb_df['noc'].isin(countries)) & \n",
    "                      (comb_df['season'] == 'Winter') & \n",
    "                      (comb_df['year'].isin(years))]\n",
    "\n",
    "# Count total medals per country per year\n",
    "medal_counts = filtered_df.groupby(['year', 'noc'])['medal'].count().unstack()\n",
    "\n",
    "# Plot grouped bar chart\n",
    "fig, ax = plt.subplots(figsize=(10, 6))\n",
    "\n",
    "bar_width = 0.25  # Width of bars\n",
    "x = np.arange(len(years))  # X-axis positions\n",
    "\n",
    "# Plot each country's medals with labels\n",
    "for i, country in enumerate(countries):\n",
    "    bars = plt.bar(x + i * bar_width, medal_counts[country], width=bar_width, label=country)\n",
    "    \n",
    "    # Add text labels above the bars\n",
    "    for bar in bars:\n",
    "        height = bar.get_height()\n",
    "        plt.text(bar.get_x() + bar.get_width()/2, height, country, ha='center', va='bottom', fontsize=10, color='black')\n",
    "\n",
    "# Labels and title\n",
    "plt.xlabel(\"Year\")\n",
    "plt.ylabel(\"Total Medals Won\")\n",
    "plt.title(\"Total Medals Won by Norway, USA, and Canada (Winter Olympics 2010-2018)\")\n",
    "plt.xticks(x + bar_width, years)\n",
    "plt.legend()\n",
    "\n",
    "# Show plot\n",
    "plt.show()\n"
   ]
  },
  {
   "cell_type": "markdown",
   "id": "554fa46d-4e3f-47d7-a351-e332a1da6b53",
   "metadata": {},
   "source": [
    "# 40. Is there any correlation between the age or gender of the competing athletes and the type of medals won?"
   ]
  },
  {
   "cell_type": "code",
   "execution_count": 70,
   "id": "01ba7486-808c-4ba9-9edd-8a3fcaa8b1ff",
   "metadata": {},
   "outputs": [],
   "source": [
    "# Remove rows where birth_year is missing to avoid NaN issues\n",
    "comb_df = comb_df.dropna(subset=['birth_year']).copy()\n",
    "\n",
    "# Calculate age\n",
    "comb_df.loc[:, 'age'] = comb_df['year'] - comb_df['birth_year']\n",
    "\n",
    "# Split data into different medal groups\n",
    "gold_ages = comb_df[comb_df['medal'] == 'Gold']['age']\n",
    "silver_ages = comb_df[comb_df['medal'] == 'Silver']['age']\n",
    "bronze_ages = comb_df[comb_df['medal'] == 'Bronze']['age']\n",
    "no_medal_ages = comb_df[comb_df['medal'].isna()]['age']\n"
   ]
  },
  {
   "cell_type": "code",
   "execution_count": 71,
   "id": "47d3ee69-117b-48b9-9398-020471e470b5",
   "metadata": {},
   "outputs": [
    {
     "name": "stdout",
     "output_type": "stream",
     "text": [
      "F-statistic: 58.7198, P-value: 0.0000\n"
     ]
    }
   ],
   "source": [
    "# Perform one-way ANOVA test\n",
    "f_stat, p_value = stats.f_oneway(gold_ages, silver_ages, bronze_ages, no_medal_ages)\n",
    "\n",
    "# Print results\n",
    "print(f\"F-statistic: {f_stat:.4f}, P-value: {p_value:.4f}\")\n"
   ]
  },
  {
   "cell_type": "raw",
   "id": "621cf400-78f2-4090-bc1e-155c1aaad40f",
   "metadata": {},
   "source": [
    "There is a significant difference in the ages of athletes across different medal categories (Gold, Silver, Bronze, No Medal). This suggests that age might play a role in winning medals."
   ]
  },
  {
   "cell_type": "code",
   "execution_count": null,
   "id": "aa87a2da-b47b-4433-ab82-f689bdcdb7e1",
   "metadata": {},
   "outputs": [],
   "source": []
  }
 ],
 "metadata": {
  "kernelspec": {
   "display_name": "Python 3 (ipykernel)",
   "language": "python",
   "name": "python3"
  },
  "language_info": {
   "codemirror_mode": {
    "name": "ipython",
    "version": 3
   },
   "file_extension": ".py",
   "mimetype": "text/x-python",
   "name": "python",
   "nbconvert_exporter": "python",
   "pygments_lexer": "ipython3",
   "version": "3.10.0"
  }
 },
 "nbformat": 4,
 "nbformat_minor": 5
}
